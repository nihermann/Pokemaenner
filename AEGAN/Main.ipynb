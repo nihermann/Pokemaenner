{
  "nbformat": 4,
  "nbformat_minor": 0,
  "metadata": {
    "accelerator": "GPU",
    "colab": {
      "name": "Main.ipynb",
      "provenance": [],
      "include_colab_link": true
    },
    "kernelspec": {
      "display_name": "Python 3",
      "language": "python",
      "name": "python3"
    },
    "language_info": {
      "codemirror_mode": {
        "name": "ipython",
        "version": 3
      },
      "file_extension": ".py",
      "mimetype": "text/x-python",
      "name": "python",
      "nbconvert_exporter": "python",
      "pygments_lexer": "ipython3",
      "version": "3.8.5"
    }
  },
  "cells": [
    {
      "cell_type": "markdown",
      "metadata": {
        "id": "view-in-github",
        "colab_type": "text"
      },
      "source": [
        "<a href=\"https://colab.research.google.com/github/nihermann/Pokemaenner/blob/main/Main.ipynb\" target=\"_parent\"><img src=\"https://colab.research.google.com/assets/colab-badge.svg\" alt=\"Open In Colab\"/></a>"
      ]
    },
    {
      "cell_type": "code",
      "metadata": {
        "id": "AcOo6FsZQBeU"
      },
      "source": [
        "##################################### Console #####################################\n",
        "# !git clone https://github.com/nihermann/Pokemaenner.git\n",
        "%cd Pokemaenner/\n",
        "# !git status\n",
        "###################################################################################"
      ],
      "execution_count": null,
      "outputs": []
    },
    {
      "cell_type": "code",
      "metadata": {
        "colab": {
          "base_uri": "https://localhost:8080/"
        },
        "id": "L330oGEvHYgF",
        "outputId": "d007eb37-ab94-4798-b037-16619bfc04a7"
      },
      "source": [
        "from google.colab import drive\n",
        "drive.mount('/content/drive')"
      ],
      "execution_count": 6,
      "outputs": [
        {
          "output_type": "stream",
          "text": [
            "Drive already mounted at /content/drive; to attempt to forcibly remount, call drive.mount(\"/content/drive\", force_remount=True).\n"
          ],
          "name": "stdout"
        }
      ]
    },
    {
      "cell_type": "code",
      "metadata": {
        "id": "4GRx2L6zBX2X",
        "pycharm": {
          "name": "#%%\n"
        },
        "cellView": "form"
      },
      "source": [
        "#@title # Using Gan to create new Pokemon\n",
        "from datetime import datetime\n",
        "import tensorflow as tf\n",
        "import utils\n",
        "from data import DataGenerator\n",
        "from aegan import (AEGAN, SaveAegan)"
      ],
      "execution_count": null,
      "outputs": []
    },
    {
      "cell_type": "code",
      "metadata": {
        "id": "NQwvLIGLiSKf",
        "cellView": "form",
        "outputId": "aa3ac981-59b8-41b5-847c-a59cb8316e9d",
        "colab": {
          "base_uri": "https://localhost:8080/"
        }
      },
      "source": [
        "# @title # Model\n",
        "model = None\n",
        "# @markdown ## AEGAN\n",
        "use_aegan = True  # @param {type:\"boolean\"}\n",
        "if use_aegan:\n",
        "    image_shape = (64, 64, 3)  # @param\n",
        "    latentspace = 24  # @param {type:\"integer\"}\n",
        "    batch_size = 32  # @param {type:\"integer\"}\n",
        "    noise_generating_function = lambda b: tf.random.normal((b, latentspace))  # @param {type:\"raw\"}\n",
        "    continue_from_saved_models = False  # @param {type:\"boolean\"}\n",
        "    only_weights = True  # @param {type:\"boolean\"}\n",
        "    path = \"/content/drive/MyDrive/pokemaenner//outputs/models\"  # @param [\"./models\"] {allow-input: true}\n",
        "\n",
        "    batch_size *= 8\n",
        "\n",
        "    model = AEGAN(\n",
        "        image_shape=image_shape,\n",
        "        latentspace=latentspace,\n",
        "        batch_size=batch_size,\n",
        "        noise_generating_fn=noise_generating_function,\n",
        "        continue_from_saved_models=continue_from_saved_models,\n",
        "        only_weights=only_weights,\n",
        "        path=path\n",
        "    )"
      ],
      "execution_count": 10,
      "outputs": [
        {
          "output_type": "stream",
          "text": [
            "Build models: [====]\n",
            "Build successfully\n"
          ],
          "name": "stdout"
        }
      ]
    },
    {
      "cell_type": "code",
      "metadata": {
        "colab": {
          "base_uri": "https://localhost:8080/"
        },
        "id": "bzkufT1iBke_",
        "cellView": "form",
        "outputId": "15e209f6-ec4b-42e7-b39c-0a0ee5458645"
      },
      "source": [
        "# @title ## Data Settings\n",
        "\n",
        "image_path = \"/content/drive/MyDrive/pokemaenner/data64/\"  # @param {type:\"string\"}\n",
        "images_in_test_split = 20  # @param {type:\"slider\", min:4, max:20, step:4}\n",
        "horizontal_flip = False  # @param {type:\"boolean\"}\n",
        "shuffle = True  # @param {type:\"boolean\"}\n",
        "\n",
        "data = DataGenerator(\n",
        "    img_path=image_path,\n",
        "    batch_size=batch_size,\n",
        "    img_size=image_shape[:2],\n",
        "    images_in_test_split=images_in_test_split,\n",
        "    horizontal_flip=horizontal_flip,\n",
        "    shuffle=shuffle\n",
        ")"
      ],
      "execution_count": 11,
      "outputs": [
        {
          "output_type": "stream",
          "text": [
            "Found 26113 images belonging to 1 classes.\n",
            "Found 20 images belonging to 1 classes.\n"
          ],
          "name": "stdout"
        }
      ]
    },
    {
      "cell_type": "code",
      "metadata": {
        "id": "_TXQNUflBa2u",
        "pycharm": {
          "name": "#%%\n"
        },
        "cellView": "form"
      },
      "source": [
        "# @title # Training Parameters\n",
        "epochs = 200  # @param {type:\"integer\"}\n",
        "samples_per_epoch = 100  # @param {type:\"integer\"}\n",
        "print_verbose = \"progressbar\"  # @param [\"no_prints\", \"print_after_each_epoch\", \"progressbar\"]\n",
        "print_verbose = {\"no_prints\": 0, \"print_after_each_epoch\": 2, \"progressbar\": 1}[print_verbose]\n",
        "\n",
        "# @markdown ## Callbacks\n",
        "# @markdown ### Model saving\n",
        "callbacks = []\n",
        "# save_models = False  # @param {type:\"boolean\"}\n",
        "# if save_models:\n",
        "#     model_path = \"./outputs/models/aegan{epoch:03d}.h5\"  # @param [\"./outputs/models/\"] {allow-input: true}\n",
        "#\n",
        "#     callbacks.append(\n",
        "#         tf.keras.callbacks.ModelCheckpoint(\n",
        "#             filepath=model_path,\n",
        "#             save_weights_only=save_weights_only,\n",
        "#         )\n",
        "#     )\n",
        "\n",
        "# @markdown ### Tensorboard\n",
        "use_tensorboard = False  # @param {type:\"boolean\"}\n",
        "log_dir = None\n",
        "timestemp = datetime.now().strftime(\"%Y%m%d_%H%M%S\")\n",
        "if use_tensorboard:\n",
        "    log_dir = \"./logs/images\"  # @param [\"./logs\"] {allow-input: true}\n",
        "    update_frequency = \"epoch\"  # @param [\"batch\", \"epoch\"] {allow-input: true}\n",
        "\n",
        "    log_dir += ('' if log_dir.endswith('/') else '/') + timestemp\n",
        "\n",
        "    print(f\"TensorBoard logdir: {log_dir}\")\n",
        "\n",
        "    callbacks.append(\n",
        "        tf.keras.callbacks.TensorBoard(\n",
        "            log_dir=log_dir,\n",
        "            update_freq=update_frequency\n",
        "        )\n",
        "    )\n",
        "\n",
        "\n",
        "    def launchTensorBoard():\n",
        "        import os\n",
        "        os.system('tensorboard --logdir=' + log_dir)\n",
        "        return\n",
        "\n",
        "\n",
        "    import threading\n",
        "\n",
        "    t = threading.Thread(target=launchTensorBoard, args=([]))\n",
        "    t.start()\n",
        "\n",
        "# @markdown ### Save Pictures and Weights for AEGAN\n",
        "# @markdown Images will be saved to file and displayed in tensorboard if activated.\n",
        "# @markdown The number of images equals to the amount of pictures specified in the validation data split.\n",
        "save_aegan = True  # @param {type:\"boolean\"}\n",
        "if save_aegan:\n",
        "    pictures_path = \"/content/drive/MyDrive/pokemaenner/outputs/\"  # @param [\"./output/\"] {allow-input: true}\n",
        "    save_pictures_every =   2# @param {type:\"integer\"}\n",
        "    save_model_every = 10  # @param {type:\"integer\"}\n",
        "    save_only_weights = False  # @param {type:\"boolean\"}\n",
        "\n",
        "    callbacks.append(\n",
        "        SaveAegan(\n",
        "            save_images_every=save_pictures_every,\n",
        "            save_model_every=save_model_every,\n",
        "            only_weights=save_only_weights,\n",
        "            save_path=pictures_path,\n",
        "            data_gen=data.validation_generator,\n",
        "            tensorboard_logdir=log_dir\n",
        "        )\n",
        "    )\n",
        "\n",
        "# @markdown ### Save History to csv\n",
        "# @markdown The name will be generated automatically so you only need to specify the path where it should be saved.\n",
        "save_history = True  # @param {type:\"boolean\"}\n",
        "if save_history:\n",
        "    history_path = \"/content/drive/MyDrive/pokemaenner/outputs/history\"  # @param [\"./outputs/history\"] {allow-input: true}\n",
        "    history_path = utils.setup_path(history_path)\n",
        "    callbacks.append(\n",
        "        tf.keras.callbacks.CSVLogger(\n",
        "            history_path + f\"aegan_64_b{batch_size//8}_l{latentspace}_s{samples_per_epoch}_history_log_{timestemp}.csv\",\n",
        "            append=True\n",
        "        )\n",
        "    )\n",
        "\n",
        "assert model is not None, \"Model must not be None, please make sure to enable one of them by setting the respective \" \\\n",
        "                          \"bool to True!\"\n",
        "print(\"Start training..\")\n",
        "model.fit(\n",
        "    x=data.training_generator,\n",
        "    steps_per_epoch=samples_per_epoch,\n",
        "    epochs=epochs + model.initial_epoch,\n",
        "    verbose=print_verbose,\n",
        "    callbacks=callbacks,\n",
        "    initial_epoch=model.initial_epoch\n",
        ")"
      ],
      "execution_count": null,
      "outputs": []
    }
  ]
}