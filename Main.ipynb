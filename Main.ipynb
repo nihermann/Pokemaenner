{
  "nbformat": 4,
  "nbformat_minor": 0,
  "metadata": {
    "kernelspec": {
      "name": "drl",
      "language": "python",
      "display_name": "drl"
    },
    "language_info": {
      "codemirror_mode": {
        "name": "ipython",
        "version": 2
      },
      "file_extension": ".py",
      "mimetype": "text/x-python",
      "name": "python",
      "nbconvert_exporter": "python",
      "pygments_lexer": "ipython2",
      "version": "2.7.6"
    },
    "colab": {
      "name": "Main.ipynb",
      "provenance": [],
      "include_colab_link": true
    },
    "accelerator": "GPU"
  },
  "cells": [
    {
      "cell_type": "markdown",
      "metadata": {
        "id": "view-in-github",
        "colab_type": "text"
      },
      "source": [
        "<a href=\"https://colab.research.google.com/github/nihermann/Pokemaenner/blob/main/Main.ipynb\" target=\"_parent\"><img src=\"https://colab.research.google.com/assets/colab-badge.svg\" alt=\"Open In Colab\"/></a>"
      ]
    },
    {
      "cell_type": "code",
      "metadata": {
        "id": "AcOo6FsZQBeU",
        "colab": {
          "base_uri": "https://localhost:8080/"
        },
        "outputId": "f634ae0a-e2b3-409a-8dd2-6e01125501e2"
      },
      "source": [
        "##################################### Console #####################################\n",
        "# !git clone https://github.com/nihermann/Pokemaenner.git\n",
        "# %cd Pokemaenner/\n",
        "# !git status\n",
        "###################################################################################"
      ],
      "execution_count": null,
      "outputs": [
        {
          "output_type": "stream",
          "text": [
            "Cloning into 'Pokemaenner'...\n",
            "remote: Enumerating objects: 134, done.\u001b[K\n",
            "remote: Counting objects: 100% (134/134), done.\u001b[K\n",
            "remote: Compressing objects: 100% (104/104), done.\u001b[K\n",
            "remote: Total 134 (delta 68), reused 70 (delta 28), pack-reused 0\u001b[K\n",
            "Receiving objects: 100% (134/134), 496.52 KiB | 12.11 MiB/s, done.\n",
            "Resolving deltas: 100% (68/68), done.\n",
            "/content/Pokemaenner\n",
            "On branch main\n",
            "Your branch is up to date with 'origin/main'.\n",
            "\n",
            "nothing to commit, working tree clean\n"
          ],
          "name": "stdout"
        }
      ]
    },
    {
      "cell_type": "code",
      "metadata": {
        "id": "L330oGEvHYgF",
        "colab": {
          "base_uri": "https://localhost:8080/"
        },
        "outputId": "d9a3faf0-9240-4adb-f9a5-acd8259d99c9"
      },
      "source": [
        "# from google.colab import drive\n",
        "# drive.mount('/content/drive')"
      ],
      "execution_count": null,
      "outputs": [
        {
          "output_type": "stream",
          "text": [
            "Mounted at /content/drive\n"
          ],
          "name": "stdout"
        }
      ]
    },
    {
      "cell_type": "code",
      "metadata": {
        "pycharm": {
          "name": "#%%\n"
        },
        "id": "4GRx2L6zBX2X",
        "cellView": "form"
      },
      "source": [
        "#@title # Using Gan to create new Pokemon\n",
        "import tensorflow as tf\n",
        "from manager import GANManager\n",
        "from data import DataGenerator\n",
        "import GAN"
      ],
      "execution_count": null,
      "outputs": []
    },
    {
      "cell_type": "code",
      "metadata": {
        "id": "bzkufT1iBke_",
        "cellView": "form",
        "colab": {
          "base_uri": "https://localhost:8080/"
        },
        "outputId": "324f849d-5ddb-436b-ab56-99443650848a"
      },
      "source": [
        "#@title ## Data Settings\n",
        "image_shape = (256, 256) #@param\n",
        "image_path = \"/content/drive/MyDrive/images/\" #@param {type:\"string\"}\n",
        "batch_size = 32 #@param {type:\"integer\"}\n",
        "validation_split = 0.1 #@param {type:\"slider\", min:0, max:0.5, step:0.1}\n",
        "shuffle = True #@param {type:\"boolean\"}\n",
        "\n",
        "data = DataGenerator(\n",
        "    img_path=image_path,\n",
        "    batch_size=batch_size,\n",
        "    img_height=image_shape[0],\n",
        "    img_width=image_shape[1],\n",
        "    validation_split=validation_split,\n",
        "    shuffle=shuffle\n",
        ")"
      ],
      "execution_count": null,
      "outputs": [
        {
          "output_type": "stream",
          "text": [
            "Found 10135 files belonging to 14 classes.\n",
            "Using 9122 files for training.\n",
            "Found 10135 files belonging to 14 classes.\n",
            "Using 1013 files for validation.\n"
          ],
          "name": "stdout"
        }
      ]
    },
    {
      "cell_type": "code",
      "metadata": {
        "pycharm": {
          "name": "#%%\n"
        },
        "id": "2nhNWVrlBX2Y",
        "cellView": "form"
      },
      "source": [
        "#@title Generator Arguments\n",
        "latentspace = 250 #@param {type:\"slider\", min:2, max:1000, step:1}\n",
        "\n",
        "\n",
        "generator = GAN.Generator(\n",
        "    latentspace=latentspace\n",
        ")"
      ],
      "execution_count": null,
      "outputs": []
    },
    {
      "cell_type": "code",
      "metadata": {
        "pycharm": {
          "name": "#%%\n"
        },
        "cellView": "form",
        "id": "N4zk9ST7BX2Y"
      },
      "source": [
        "#@title ## Discriminator Arguments\n",
        "discriminator = GAN.Discriminator(\n",
        "    input_shape=(None, image_shape[0], image_shape[1], 4)\n",
        ")"
      ],
      "execution_count": null,
      "outputs": []
    },
    {
      "cell_type": "code",
      "metadata": {
        "pycharm": {
          "name": "#%%\n"
        },
        "id": "peB1T2J6BX2Y",
        "cellView": "form"
      },
      "source": [
        "#@title ## Hyperparameters\n",
        "\n",
        "\n",
        "loss_function = \"Binary Cross Entropy\" #@param [\"Binary Cross Entropy\", \"Mean Squared Error\"]\n",
        "optimizer = \"Adam\" #@param [\"Adam\", \"RMSprop\", \"SGD\"]\n",
        "learning_rate = 0.001 #@param {type:\"number\"}\n",
        "\n",
        "\n",
        "## Dropdown equivalents\n",
        "loss_functions = {\n",
        "    \"Binary Cross Entropy\": tf.keras.losses.BinaryCrossentropy(),\n",
        "    \"Mean Squared Error\": tf.keras.losses.MSE\n",
        "}\n",
        "\n",
        "optimizers = {\n",
        "    \"Adam\": tf.keras.optimizers.Adam(learning_rate),\n",
        "    \"RMSprop\": tf.keras.optimizers.RMSprop(learning_rate),\n",
        "    \"SGD\": tf.keras.optimizers.SGD\n",
        "}\n",
        "\n",
        "\n",
        "## Final\n",
        "kwargs = {\n",
        "    \"batch_size\": batch_size,\n",
        "    \"loss\": loss_functions[loss_function],\n",
        "    \"optimizer\": optimizers[optimizer]\n",
        "}\n",
        "\n",
        "manager = GANManager(\n",
        "    kwargs=kwargs,\n",
        "    generator=generator,\n",
        "    discriminator=discriminator,\n",
        "    data=data\n",
        ")"
      ],
      "execution_count": null,
      "outputs": []
    },
    {
      "cell_type": "code",
      "metadata": {
        "pycharm": {
          "name": "#%%\n"
        },
        "cellView": "form",
        "id": "_TXQNUflBa2u",
        "colab": {
          "base_uri": "https://localhost:8080/"
        },
        "outputId": "4d90b50e-55c7-425d-be6c-a04e9c92b654"
      },
      "source": [
        "#@title # Training Parameters\n",
        "epochs = 100 #@param {type:\"integer\"}\n",
        "samples_per_epoch = 10000 #@param {type:\"integer\"}\n",
        "trainings_frequency =  (5, 5)#@param {type:\"raw\"}\n",
        "print_every =  1#@param {type:\"integer\"}\n",
        "print_verbose = True #@param {type:\"boolean\"}\n",
        "save_pictures_every = 4 #@param {type:\"integer\"}\n",
        "how_many_pictures_to_save = 10 #@param {type:\"integer\"}\n",
        "save_model_every = 0 #@param {type:\"integer\"}\n",
        "\n",
        "\n",
        "manager.train(\n",
        "    epochs=epochs,\n",
        "    samples_per_epoch=samples_per_epoch,\n",
        "    trainings_frequency=trainings_frequency,\n",
        "    print_every=print_every,\n",
        "    print_verbose=print_verbose,\n",
        "    save_pictures_every=save_pictures_every,\n",
        "    how_many_pictures_to_save=how_many_pictures_to_save,\n",
        "    save_model_every=save_model_every\n",
        "    )"
      ],
      "execution_count": null,
      "outputs": [
        {
          "output_type": "stream",
          "text": [
            "|T| ---------------------------------------------------------------> |V| -------------------------------->\n",
            "|D| Mean G-Loss: 12.757805824279785, Mean D-Loss: 0.005183156114071608, Mean D-Loss for real images: 0.006516627036035061, Mean D-Loss for generated images: 0.0  Mean D-Accuracy for real images: 0, Mean D-Accuracy for generated images: 0 || \n",
            "|T| ---------------------------------------------------------------> |V| -------------------------------->\n",
            "|D| Mean G-Loss: 15.424947738647461, Mean D-Loss: 1.2884834177384619e-07, Mean D-Loss for real images: 0.0003814099763985723, Mean D-Loss for generated images: 0.0  Mean D-Accuracy for real images: 0, Mean D-Accuracy for generated images: 0 || \n",
            "|T| ---------------------------------------------------------------> |V| -------------------------------->\n",
            "|D| Mean G-Loss: 15.424947738647461, Mean D-Loss: 1.024165641183572e-08, Mean D-Loss for real images: 0.00012278366193640977, Mean D-Loss for generated images: 0.0  Mean D-Accuracy for real images: 0, Mean D-Accuracy for generated images: 0 || \n",
            "|T| --------------------------------------------------------------> |V| -------------------------------->\n",
            "|D| Mean G-Loss: 15.424947738647461, Mean D-Loss: 5.972318639635432e-09, Mean D-Loss for real images: 9.785260772332549e-05, Mean D-Loss for generated images: 0.0  Mean D-Accuracy for real images: 0, Mean D-Accuracy for generated images: 0 || \n",
            "|T| ---------------------------------------------------------------> |V| -------------------------------->\n",
            "|D| Mean G-Loss: 15.424947738647461, Mean D-Loss: 5.250894385966376e-09, Mean D-Loss for real images: 0.00012825863086618483, Mean D-Loss for generated images: 0.0  Mean D-Accuracy for real images: 0, Mean D-Accuracy for generated images: 0 || \n",
            "|T| ---------------------------------------------------------------> |V| -------------------------------->\n",
            "|D| Mean G-Loss: 15.424947738647461, Mean D-Loss: 6.788334339091762e-09, Mean D-Loss for real images: 9.297302312916145e-05, Mean D-Loss for generated images: 0.0  Mean D-Accuracy for real images: 0, Mean D-Accuracy for generated images: 0 || \n",
            "|T| ---------------------------------------------------------------> |V| -------------------------------->\n",
            "|D| Mean G-Loss: 15.424947738647461, Mean D-Loss: 3.298524120509683e-08, Mean D-Loss for real images: 4.010810152976774e-05, Mean D-Loss for generated images: 0.0  Mean D-Accuracy for real images: 0, Mean D-Accuracy for generated images: 0 || \n",
            "|T| --------------------------------------------------------------> |V| -------------------------------->\n",
            "|D| Mean G-Loss: 15.424947738647461, Mean D-Loss: 1.170806118722112e-09, Mean D-Loss for real images: 4.2844010749831796e-05, Mean D-Loss for generated images: 0.0  Mean D-Accuracy for real images: 0, Mean D-Accuracy for generated images: 0 || \n",
            "|T| ---------------------------------------------------------------> |V| -------------------------------->\n",
            "|D| Mean G-Loss: 15.424947738647461, Mean D-Loss: 5.49926060244843e-09, Mean D-Loss for real images: 7.245577580761164e-05, Mean D-Loss for generated images: 0.0  Mean D-Accuracy for real images: 0, Mean D-Accuracy for generated images: 0 || \n",
            "|T| ---------------------------------------------------------------> |V| -------------------------------->\n",
            "|D| Mean G-Loss: 15.424947738647461, Mean D-Loss: 7.970983872951365e-09, Mean D-Loss for real images: 4.1063318349188194e-05, Mean D-Loss for generated images: 0.0  Mean D-Accuracy for real images: 0, Mean D-Accuracy for generated images: 0 || \n",
            "|T| ---------------------------------------------------------------> |V| ------------------------------>\n",
            "|D| Mean G-Loss: 15.32607650756836, Mean D-Loss: 1.7784909687179606e-06, Mean D-Loss for real images: 1.911089930217713e-05, Mean D-Loss for generated images: 0.0  Mean D-Accuracy for real images: 0, Mean D-Accuracy for generated images: 0 || \n",
            "|T| ---------------------------------------------------------------> |V| -------------------------------->\n",
            "|D| Mean G-Loss: 15.424947738647461, Mean D-Loss: 5.615946108150638e-08, Mean D-Loss for real images: 1.2346695257292595e-05, Mean D-Loss for generated images: 0.0  Mean D-Accuracy for real images: 0, Mean D-Accuracy for generated images: 0 || \n",
            "|T| --------------------------Manual abortion.. to save the current model answer '1'1\n"
          ],
          "name": "stdout"
        }
      ]
    }
  ]
}