{
 "nbformat": 4,
 "nbformat_minor": 0,
 "metadata": {
  "kernelspec": {
   "name": "drl",
   "language": "python",
   "display_name": "drl"
  },
  "language_info": {
   "codemirror_mode": {
    "name": "ipython",
    "version": 2
   },
   "file_extension": ".py",
   "mimetype": "text/x-python",
   "name": "python",
   "nbconvert_exporter": "python",
   "pygments_lexer": "ipython2",
   "version": "2.7.6"
  },
  "colab": {
   "name": "Main.ipynb",
   "provenance": [],
   "include_colab_link": true
  }
 },
 "cells": [
  {
   "cell_type": "markdown",
   "metadata": {
    "id": "view-in-github",
    "colab_type": "text"
   },
   "source": [
    "<a href=\"https://colab.research.google.com/github/nihermann/Pokemaenner/blob/main/Main.ipynb\" target=\"_parent\"><img src=\"https://colab.research.google.com/assets/colab-badge.svg\" alt=\"Open In Colab\"/></a>"
   ]
  },
  {
   "cell_type": "code",
   "metadata": {
    "id": "AcOo6FsZQBeU",
    "outputId": "46fdf6f7-daca-492b-a13f-00e53baeeca0",
    "colab": {
     "base_uri": "https://localhost:8080/"
    }
   },
   "source": [
    "##################################### Console #####################################\n",
    "# !git clone https://github.com/nihermann/Pokemaenner.git\n",
    "# %cd Pokemaenner/\n",
    "# !git status\n",
    "###################################################################################"
   ],
   "execution_count": 22,
   "outputs": []
  },
  {
   "cell_type": "code",
   "metadata": {
    "pycharm": {
     "name": "#%%\n"
    },
    "id": "4GRx2L6zBX2X"
   },
   "source": [
    "#@title # Using Gan to create new Pokemon\n",
    "import tensorflow as tf\n",
    "from manager import GANManager\n",
    "from data import DataGenerator\n",
    "import GAN"
   ],
   "execution_count": 23,
   "outputs": []
  },
  {
   "cell_type": "code",
   "metadata": {
    "id": "bzkufT1iBke_"
   },
   "source": [
    "#@title ## Data Settings\n",
    "image_shape = (256, 256) #@param\n",
    "image_path = \"images\" #@param {type:\"string\"}\n",
    "batch_size = 32 #@param {type:\"integer\"}\n",
    "validation_split = 0.1 #@param {type:\"slider\", min:0, max:0.5, step:0.1}\n",
    "shuffle = False #@param {type:\"boolean\"}\n",
    "\n",
    "data = DataGenerator(\n",
    "    img_path=image_path,\n",
    "    batch_size=batch_size,\n",
    "    img_height=image_shape[0],\n",
    "    img_width=image_shape[1],\n",
    "    validation_split=validation_split,\n",
    "    shuffle=shuffle\n",
    ")"
   ],
   "execution_count": 24,
   "outputs": [
    {
     "name": "stdout",
     "output_type": "stream",
     "text": [
      "Found 10136 files belonging to 14 classes.\n",
      "Using 9123 files for training.\n",
      "Found 10136 files belonging to 14 classes.\n",
      "Using 1013 files for validation.\n"
     ]
    }
   ]
  },
  {
   "cell_type": "code",
   "metadata": {
    "pycharm": {
     "name": "#%%\n"
    },
    "id": "2nhNWVrlBX2Y"
   },
   "source": [
    "#@title Generator Arguments\n",
    "latentspace = 10 #@param {type:\"slider\", min:2, max:20, step:1}\n",
    "\n",
    "\n",
    "generator = GAN.Generator(\n",
    "    latentspace=latentspace\n",
    ")"
   ],
   "execution_count": 25,
   "outputs": []
  },
  {
   "cell_type": "code",
   "metadata": {
    "pycharm": {
     "name": "#%%\n"
    },
    "cellView": "form",
    "id": "N4zk9ST7BX2Y"
   },
   "source": [
    "#@title ## Discriminator Arguments\n",
    "discriminator = GAN.Discriminator(\n",
    "    input_shape=(None, image_shape[0], image_shape[1], 4)\n",
    ")"
   ],
   "execution_count": 26,
   "outputs": []
  },
  {
   "cell_type": "code",
   "metadata": {
    "pycharm": {
     "name": "#%%\n"
    },
    "id": "peB1T2J6BX2Y",
    "colab": {
     "base_uri": "https://localhost:8080/"
    },
    "outputId": "6ecc226f-9d7b-4c3f-a3ac-cccbd16b4b63"
   },
   "source": [
    "#@title ## Hyperparameters\n",
    "\n",
    "\n",
    "loss_function = \"Mean Squared Error\" #@param [\"Binary Cross Entropy\", \"Mean Squared Error\"]\n",
    "optimizer = \"Adam\" #@param [\"Adam\", \"RMSprop\", \"SGD\"]\n",
    "learning_rate = 0.001 #@param {type:\"number\"}\n",
    "\n",
    "\n",
    "## Dropdown equivalents\n",
    "loss_functions = {\n",
    "    \"Binary Cross Entropy\": tf.keras.losses.BinaryCrossentropy(),\n",
    "    \"Mean Squared Error\": tf.keras.losses.MSE\n",
    "}\n",
    "\n",
    "optimizers = {\n",
    "    \"Adam\": tf.keras.optimizers.Adam(learning_rate),\n",
    "    \"RMSprop\": tf.keras.optimizers.RMSprop(learning_rate),\n",
    "    \"SGD\": tf.keras.optimizers.SGD\n",
    "}\n",
    "\n",
    "\n",
    "## Final\n",
    "kwargs = {\n",
    "    \"batch_size\": batch_size,\n",
    "    \"loss\": loss_functions[loss_function],\n",
    "    \"optimizer\": optimizers[optimizer]\n",
    "}\n",
    "\n",
    "manager = GANManager(\n",
    "    kwargs=kwargs,\n",
    "    generator=generator,\n",
    "    discriminator=discriminator,\n",
    "    data=data\n",
    ")\n",
    "manager.get_noise()"
   ],
   "execution_count": 27,
   "outputs": [
    {
     "data": {
      "text/plain": "<tf.Tensor: shape=(32, 10), dtype=float32, numpy=\narray([[ 2.70289928e-01, -6.29760623e-01,  2.19310045e-01,\n        -1.14238262e-03,  5.76508641e-02,  5.95241964e-01,\n         5.70446908e-01, -4.60072219e-01,  1.35994047e-01,\n         1.14327562e+00],\n       [ 3.05341721e-01,  1.08553815e+00,  2.06309080e-01,\n         1.16967607e+00,  7.32178926e-01,  1.35655135e-01,\n         6.16367817e-01,  6.76740646e-01, -5.44258833e-01,\n         5.06919980e-01],\n       [ 1.55866683e+00,  8.92223001e-01, -2.89531231e-01,\n         3.47961843e-01,  7.05481887e-01,  4.69709009e-01,\n        -9.92596149e-03,  6.23664260e-01,  4.34919298e-02,\n         1.23379207e+00],\n       [ 1.04623091e+00,  5.95164061e-01,  1.19796622e+00,\n         2.61839032e-01,  8.16210449e-01,  6.73623979e-01,\n         9.15144086e-01,  8.29861164e-01,  3.53990078e-01,\n         4.19687271e-01],\n       [ 3.58224452e-01,  1.57437801e+00,  9.36355054e-01,\n         2.80986220e-01,  3.90319735e-01,  9.67887640e-01,\n        -8.72304797e-01,  3.80878478e-01,  8.75087619e-01,\n         2.11794496e-01],\n       [ 9.34012294e-01,  9.61291134e-01,  1.33439112e+00,\n         4.66941774e-01,  6.76068902e-01, -4.18302834e-01,\n         6.61179066e-01,  6.18308544e-01,  2.29213864e-01,\n         6.84629321e-01],\n       [ 2.32537389e-01,  5.28271854e-01,  7.82318711e-01,\n         5.62710762e-01,  3.71433973e-01,  8.38695347e-01,\n        -1.13368332e-01,  9.94415700e-01,  6.62066281e-01,\n         6.92559600e-01],\n       [ 7.21407056e-01,  3.39470983e-01,  6.84536457e-01,\n         8.24134827e-01,  6.29529238e-01,  5.39245367e-01,\n         3.13152999e-01, -3.63392770e-01,  2.98149794e-01,\n        -5.75364113e-01],\n       [ 6.80621862e-01, -5.10685921e-01, -1.80369973e-01,\n         1.21110845e+00,  9.15646017e-01,  3.29817593e-01,\n        -1.27365887e-01,  3.65947336e-01, -4.48525012e-01,\n         9.54723179e-01],\n       [ 2.43186623e-01,  4.75954771e-01,  3.08339536e-01,\n         1.24629569e+00,  8.21867704e-01,  7.87751079e-02,\n        -6.22319341e-01,  6.61498666e-01, -6.87974334e-01,\n         1.21185482e-01],\n       [ 6.51887059e-02,  7.20364451e-01,  6.36199236e-01,\n        -4.10874367e-01,  7.87185907e-01, -3.39846075e-01,\n         9.09233451e-01,  1.00266129e-01,  5.02805114e-01,\n         4.54070330e-01],\n       [ 8.86309147e-03,  2.82638133e-01,  1.86162293e-01,\n         3.28544617e-01,  2.06398070e-01,  1.06458575e-01,\n         5.52937806e-01,  5.74222326e-01,  4.77973193e-01,\n        -3.08560729e-02],\n       [-2.78102696e-01, -6.85688496e-01,  1.13739872e+00,\n         2.57322550e-01, -9.25042033e-02,  7.14645267e-01,\n         4.94207978e-01,  5.98629594e-01, -2.87712157e-01,\n         1.05797946e+00],\n       [ 4.42250699e-01,  1.69698954e-01,  9.03650045e-01,\n         4.60053742e-01,  4.87582386e-01,  6.27357304e-01,\n         1.17271209e+00, -3.59794378e-01,  4.90077853e-01,\n        -2.74860740e-01],\n       [ 5.48689485e-01,  1.01952910e+00,  5.71701765e-01,\n        -1.79099977e-01,  1.90517163e+00,  8.06776404e-01,\n         1.04541492e+00,  7.21455634e-01,  1.15756845e+00,\n         6.56904936e-01],\n       [ 7.49672771e-01,  5.60266256e-01,  1.87397748e-01,\n        -6.28354549e-02,  1.68423027e-01,  5.05263865e-01,\n         8.78743052e-01,  1.17279172e+00,  5.72485805e-01,\n        -1.70774221e-01],\n       [ 9.32539225e-01, -8.15103054e-02,  3.55443478e-01,\n        -2.86314607e-01,  1.26283312e+00,  4.31380212e-01,\n         1.28090531e-01,  1.37130237e+00,  8.53297532e-01,\n         2.40539193e-01],\n       [ 8.89344335e-01,  1.49556363e+00, -7.19089270e-01,\n         6.75630569e-02,  2.26853192e-02,  7.40906119e-01,\n        -2.80506432e-01,  7.01302469e-01, -9.92612243e-02,\n         1.23197496e-01],\n       [-2.22932100e-02,  8.47409368e-01,  9.90621090e-01,\n         3.95490289e-01,  5.84667623e-01,  1.23308420e+00,\n         8.31697762e-01,  4.23864454e-01,  6.71556294e-01,\n        -1.25910223e-01],\n       [ 5.34163237e-01, -1.89270973e-02, -6.38780475e-01,\n         7.98795581e-01,  1.19226754e-01,  4.56737995e-01,\n         5.30190289e-01, -6.33327365e-02,  8.02299440e-01,\n         8.38788509e-01],\n       [ 3.13708425e-01,  4.03786898e-02,  2.31562406e-01,\n         5.72429419e-01,  9.49862838e-01, -1.35902762e-01,\n         7.58283377e-01, -5.72962523e-01,  5.96044064e-01,\n        -2.63094008e-01],\n       [ 1.34914899e+00,  6.72360361e-01,  4.94300753e-01,\n         3.66296649e-01, -1.55462563e-01,  6.57589853e-01,\n         9.06503320e-01,  1.62245798e+00,  7.12946773e-01,\n         8.41966450e-01],\n       [ 1.02885962e+00,  4.12963361e-01,  9.42984343e-01,\n        -3.42118382e-01,  5.23070991e-01,  8.13415408e-01,\n         3.57692361e-01,  1.11578321e+00,  7.20128417e-01,\n         9.37278509e-01],\n       [ 2.10590959e-02,  3.19291741e-01,  4.76328760e-01,\n        -1.53174758e-01, -1.11156702e-03,  8.74885559e-01,\n         4.84400660e-01,  4.31332409e-01, -4.28390861e-01,\n         5.36005318e-01],\n       [ 5.41242123e-01,  7.20190167e-01,  1.09507489e+00,\n         1.16515875e-01, -1.72721386e-01, -4.94247735e-01,\n        -3.48721743e-01,  4.62079704e-01, -6.34296536e-02,\n         1.29349422e+00],\n       [ 5.34446239e-01,  1.91890597e-01,  6.01408124e-01,\n        -3.98199320e-01,  9.54407096e-01,  6.50027573e-01,\n         1.22895390e-01,  1.14571118e+00,  8.80958676e-01,\n         4.76536453e-02],\n       [ 6.58902228e-01,  3.54047835e-01,  5.20350635e-02,\n         9.37585115e-01, -4.79404151e-01,  3.96223366e-01,\n         1.12482810e+00,  8.03742707e-02,  6.45695806e-01,\n         7.50528574e-01],\n       [ 3.88237983e-01,  1.95918560e-01,  5.09221196e-01,\n         6.42442524e-01,  7.92861640e-01,  1.43450153e+00,\n         4.88977522e-01,  1.16402090e+00,  1.25368977e+00,\n         3.22359443e-01],\n       [ 2.79796004e-01,  9.99751210e-01,  8.01030338e-01,\n         1.31899059e+00, -1.97433233e-02,  4.56137657e-02,\n         4.40989405e-01, -1.19551599e-01,  6.70831203e-01,\n         6.75395966e-01],\n       [-5.20000219e-01,  9.22332287e-01, -1.79430008e-01,\n         1.21611643e+00,  1.10162824e-01,  9.43179667e-01,\n         1.95801866e+00,  2.32157975e-01,  4.00396824e-01,\n        -3.69907796e-01],\n       [ 9.80881274e-01,  4.62035179e-01,  7.23650455e-02,\n         1.16965532e+00,  1.23260772e+00,  1.54298532e+00,\n         5.32494247e-01,  4.99308199e-01, -9.27309990e-02,\n         4.51413304e-01],\n       [ 7.05438018e-01,  5.15165150e-01, -1.02601433e+00,\n        -2.23726690e-01, -3.30796957e-01,  1.40689039e+00,\n         8.18757772e-01,  8.84863853e-01, -2.81457484e-01,\n         6.44852281e-01]], dtype=float32)>"
     },
     "execution_count": 27,
     "metadata": {},
     "output_type": "execute_result"
    }
   ]
  }
 ]
}