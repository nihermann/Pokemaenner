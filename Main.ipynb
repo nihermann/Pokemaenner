{
  "nbformat": 4,
  "nbformat_minor": 0,
  "metadata": {
    "accelerator": "GPU",
    "colab": {
      "name": "Main.ipynb",
      "provenance": [],
      "include_colab_link": true
    },
    "kernelspec": {
      "display_name": "Python 3",
      "language": "python",
      "name": "python3"
    },
    "language_info": {
      "codemirror_mode": {
        "name": "ipython",
        "version": 3
      },
      "file_extension": ".py",
      "mimetype": "text/x-python",
      "name": "python",
      "nbconvert_exporter": "python",
      "pygments_lexer": "ipython3",
      "version": "3.8.5"
    }
  },
  "cells": [
    {
      "cell_type": "markdown",
      "metadata": {
        "id": "view-in-github",
        "colab_type": "text"
      },
      "source": [
        "<a href=\"https://colab.research.google.com/github/nihermann/Pokemaenner/blob/main/Main.ipynb\" target=\"_parent\"><img src=\"https://colab.research.google.com/assets/colab-badge.svg\" alt=\"Open In Colab\"/></a>"
      ]
    },
    {
      "cell_type": "code",
      "metadata": {
        "colab": {
          "base_uri": "https://localhost:8080/"
        },
        "id": "AcOo6FsZQBeU",
        "outputId": "0f002582-1e4e-4f20-9c71-cbd655d17f22"
      },
      "source": [
        "##################################### Console #####################################\n",
        "# !git clone https://github.com/nihermann/Pokemaenner.git\n",
        "# %cd Pokemaenner/\n",
        "# !git status\n",
        "###################################################################################"
      ],
      "execution_count": 1,
      "outputs": [
        {
          "output_type": "stream",
          "text": [
            "Cloning into 'Pokemaenner'...\n",
            "remote: Enumerating objects: 277, done.\u001b[K\n",
            "remote: Counting objects: 100% (277/277), done.\u001b[K\n",
            "remote: Compressing objects: 100% (217/217), done.\u001b[K\n",
            "remote: Total 277 (delta 154), reused 135 (delta 57), pack-reused 0\u001b[K\n",
            "Receiving objects: 100% (277/277), 1.44 MiB | 2.08 MiB/s, done.\n",
            "Resolving deltas: 100% (154/154), done.\n",
            "/content/Pokemaenner\n"
          ],
          "name": "stdout"
        }
      ]
    },
    {
      "cell_type": "code",
      "metadata": {
        "colab": {
          "base_uri": "https://localhost:8080/"
        },
        "id": "L330oGEvHYgF",
        "outputId": "d9a3faf0-9240-4adb-f9a5-acd8259d99c9"
      },
      "source": [
        "# from google.colab import drive\n",
        "# drive.mount('/content/drive')"
      ],
      "execution_count": null,
      "outputs": [
        {
          "output_type": "stream",
          "text": [
            "Mounted at /content/drive\n"
          ],
          "name": "stdout"
        }
      ]
    },
    {
      "cell_type": "code",
      "metadata": {
        "id": "4GRx2L6zBX2X",
        "pycharm": {
          "name": "#%%\n"
        },
        "cellView": "form"
      },
      "source": [
        "#@title # Using Gan to create new Pokemon\n",
        "import tensorflow as tf\n",
        "from manager import GANManager\n",
        "from data import DataGenerator\n",
        "import gan"
      ],
      "execution_count": 3,
      "outputs": []
    },
    {
      "cell_type": "code",
      "metadata": {
        "colab": {
          "base_uri": "https://localhost:8080/"
        },
        "id": "bzkufT1iBke_",
        "outputId": "324f849d-5ddb-436b-ab56-99443650848a"
      },
      "source": [
        "#@title ## Data Settings\n",
        "image_shape = (64,64) #@param\n",
        "image_path = \"/content/drive/MyDrive/images/\" #@param {type:\"string\"}\n",
        "batch_size = 32 #@param {type:\"integer\"}\n",
        "validation_split = 0.1 #@param {type:\"slider\", min:0, max:0.5, step:0.01}\n",
        "shuffle = True #@param {type:\"boolean\"}\n",
        "data_augmentation = False #@param {type:\"boolean\"}\n",
        "\n",
        "\n",
        "data = DataGenerator(\n",
        "    img_path=image_path,\n",
        "    batch_size=batch_size,\n",
        "    img_height=image_shape[0],\n",
        "    img_width=image_shape[1],\n",
        "    validation_split=validation_split,\n",
        "    shuffle=shuffle\n",
        ")"
      ],
      "execution_count": null,
      "outputs": [
        {
          "output_type": "stream",
          "text": [
            "Found 10135 files belonging to 14 classes.\n",
            "Using 9122 files for training.\n",
            "Found 10135 files belonging to 14 classes.\n",
            "Using 1013 files for validation.\n"
          ],
          "name": "stdout"
        }
      ]
    },
    {
      "cell_type": "code",
      "metadata": {
        "cellView": "form",
        "id": "2nhNWVrlBX2Y",
        "pycharm": {
          "name": "#%%\n"
        }
      },
      "source": [
        "#@title Generator Arguments\n",
        "latentspace = 250 #@param {type:\"slider\", min:2, max:1000, step:1}\n",
        "\n",
        "\n",
        "generator = GAN.Generator(\n",
        "    latentspace=latentspace\n",
        ")"
      ],
      "execution_count": null,
      "outputs": []
    },
    {
      "cell_type": "code",
      "metadata": {
        "cellView": "form",
        "id": "N4zk9ST7BX2Y",
        "pycharm": {
          "name": "#%%\n"
        }
      },
      "source": [
        "#@title ## Discriminator Arguments\n",
        "discriminator = GAN.Discriminator(\n",
        "    input_shape=(None, image_shape[0], image_shape[1], 4)\n",
        ")"
      ],
      "execution_count": null,
      "outputs": []
    },
    {
      "cell_type": "code",
      "metadata": {
        "id": "peB1T2J6BX2Y",
        "pycharm": {
          "name": "#%%\n"
        }
      },
      "source": [
        "#@title ## Hyperparameters\n",
        "\n",
        "\n",
        "loss_function = \"Binary Cross Entropy\" #@param [\"Binary Cross Entropy\", \"Mean Squared Error\"]\n",
        "optimizer = \"Adam\" #@param [\"Adam\", \"RMSprop\", \"SGD\"]\n",
        "learning_rate = 0.001 #@param {type:\"number\"}\n",
        "\n",
        "\n",
        "## Dropdown equivalents\n",
        "loss_functions = {\n",
        "    \"Binary Cross Entropy\": tf.keras.losses.BinaryCrossentropy(),\n",
        "    \"Mean Squared Error\": tf.keras.losses.MSE\n",
        "}\n",
        "\n",
        "optimizers = {\n",
        "    \"Adam\": tf.keras.optimizers.Adam(learning_rate),\n",
        "    \"RMSprop\": tf.keras.optimizers.RMSprop(learning_rate),\n",
        "    \"SGD\": tf.keras.optimizers.SGD\n",
        "}\n",
        "\n",
        "\n",
        "## Final\n",
        "kwargs = {\n",
        "    \"batch_size\": batch_size,\n",
        "    \"loss\": loss_functions[loss_function],\n",
        "    \"optimizer\": optimizers[optimizer]\n",
        "}\n",
        "\n",
        "manager = GANManager(\n",
        "    kwargs=kwargs,\n",
        "    generator=generator,\n",
        "    discriminator=discriminator,\n",
        "    data=data\n",
        ")"
      ],
      "execution_count": null,
      "outputs": []
    },
    {
      "cell_type": "code",
      "metadata": {
        "colab": {
          "base_uri": "https://localhost:8080/"
        },
        "id": "_TXQNUflBa2u",
        "pycharm": {
          "name": "#%%\n"
        },
        "outputId": "4d90b50e-55c7-425d-be6c-a04e9c92b654"
      },
      "source": [
        "#@title # Training Parameters\n",
        "epochs = 100 #@param {type:\"integer\"}\n",
        "samples_per_epoch = 10000 #@param {type:\"integer\"}\n",
        "start_from_existing_models =  False #@param {type:\"boolean\"}\n",
        "print_every =  1#@param {type:\"integer\"}\n",
        "print_verbose = \"no_prints\" #@param [\"no_prints\", \"print_after_each_epoch\", \"progressbar\"]\n",
        "print_verbose = {\"no_prints\": 0, \"print_after_each_epoch\": 2, \"progressbar\": 1}[print_verbose]\n",
        "\n",
        "#@markdown ## Callbacks\n",
        "callbacks = {}\n",
        "save_models = False #@param {type:\"boolean\"}\n",
        "if save_models:\n",
        "    model_path = \"./models\" #@param [\"./models\"] {allow-input: true}\n",
        "    save_model_every = 0 #@param {type:\"integer\"}\n",
        "    save_weights_only = False #@param {type:\"boolean\"}\n",
        "\n",
        "    callbacks[\"ModelCheckpoint\"] = {\n",
        "        \"filepath\": model_path,\n",
        "        \"save_weights_only\": save_weights_only,\n",
        "    }\n",
        "\n",
        "save_pictures_every = 4 #@param {type:\"integer\"}\n",
        "how_many_pictures_to_save = 10 #@param {type:\"integer\"}\n",
        "use_tensorboard = False #@param {type:\"boolean\"}\n",
        "if use_tensorboard:\n",
        "    log_dir = \"./logs\" #@param [\"./logs\"] {allow-input: true}\n",
        "    update_frequency = \"epoch\" #@param [\"batch\", \"epoch\"] {allow-input: true}\n",
        "    callbacks[\"TensorBoard\"] = {\n",
        "        \"log_dir\": log_dir,\n",
        "        \"update_freq\" : update_frequency\n",
        "    }\n",
        "\n",
        "\n",
        "\n",
        "manager.train(\n",
        "    epochs=epochs,\n",
        "    samples_per_epoch=samples_per_epoch,\n",
        "    trainings_frequency=trainings_frequency,\n",
        "    print_every=print_every,\n",
        "    print_verbose=print_verbose,\n",
        "    save_pictures_every=save_pictures_every,\n",
        "    how_many_pictures_to_save=how_many_pictures_to_save,\n",
        "    save_model_every=save_model_every\n",
        "    )"
      ],
      "execution_count": null,
      "outputs": [
        {
          "output_type": "stream",
          "text": [
            "|T| ---------------------------------------------------------------> |V| -------------------------------->\n",
            "|D| Mean G-Loss: 12.757805824279785, Mean D-Loss: 0.005183156114071608, Mean D-Loss for real images: 0.006516627036035061, Mean D-Loss for generated images: 0.0  Mean D-Accuracy for real images: 0, Mean D-Accuracy for generated images: 0 || \n",
            "|T| ---------------------------------------------------------------> |V| -------------------------------->\n",
            "|D| Mean G-Loss: 15.424947738647461, Mean D-Loss: 1.2884834177384619e-07, Mean D-Loss for real images: 0.0003814099763985723, Mean D-Loss for generated images: 0.0  Mean D-Accuracy for real images: 0, Mean D-Accuracy for generated images: 0 || \n",
            "|T| ---------------------------------------------------------------> |V| -------------------------------->\n",
            "|D| Mean G-Loss: 15.424947738647461, Mean D-Loss: 1.024165641183572e-08, Mean D-Loss for real images: 0.00012278366193640977, Mean D-Loss for generated images: 0.0  Mean D-Accuracy for real images: 0, Mean D-Accuracy for generated images: 0 || \n",
            "|T| --------------------------------------------------------------> |V| -------------------------------->\n",
            "|D| Mean G-Loss: 15.424947738647461, Mean D-Loss: 5.972318639635432e-09, Mean D-Loss for real images: 9.785260772332549e-05, Mean D-Loss for generated images: 0.0  Mean D-Accuracy for real images: 0, Mean D-Accuracy for generated images: 0 || \n",
            "|T| ---------------------------------------------------------------> |V| -------------------------------->\n",
            "|D| Mean G-Loss: 15.424947738647461, Mean D-Loss: 5.250894385966376e-09, Mean D-Loss for real images: 0.00012825863086618483, Mean D-Loss for generated images: 0.0  Mean D-Accuracy for real images: 0, Mean D-Accuracy for generated images: 0 || \n",
            "|T| ---------------------------------------------------------------> |V| -------------------------------->\n",
            "|D| Mean G-Loss: 15.424947738647461, Mean D-Loss: 6.788334339091762e-09, Mean D-Loss for real images: 9.297302312916145e-05, Mean D-Loss for generated images: 0.0  Mean D-Accuracy for real images: 0, Mean D-Accuracy for generated images: 0 || \n",
            "|T| ---------------------------------------------------------------> |V| -------------------------------->\n",
            "|D| Mean G-Loss: 15.424947738647461, Mean D-Loss: 3.298524120509683e-08, Mean D-Loss for real images: 4.010810152976774e-05, Mean D-Loss for generated images: 0.0  Mean D-Accuracy for real images: 0, Mean D-Accuracy for generated images: 0 || \n",
            "|T| --------------------------------------------------------------> |V| -------------------------------->\n",
            "|D| Mean G-Loss: 15.424947738647461, Mean D-Loss: 1.170806118722112e-09, Mean D-Loss for real images: 4.2844010749831796e-05, Mean D-Loss for generated images: 0.0  Mean D-Accuracy for real images: 0, Mean D-Accuracy for generated images: 0 || \n",
            "|T| ---------------------------------------------------------------> |V| -------------------------------->\n",
            "|D| Mean G-Loss: 15.424947738647461, Mean D-Loss: 5.49926060244843e-09, Mean D-Loss for real images: 7.245577580761164e-05, Mean D-Loss for generated images: 0.0  Mean D-Accuracy for real images: 0, Mean D-Accuracy for generated images: 0 || \n",
            "|T| ---------------------------------------------------------------> |V| -------------------------------->\n",
            "|D| Mean G-Loss: 15.424947738647461, Mean D-Loss: 7.970983872951365e-09, Mean D-Loss for real images: 4.1063318349188194e-05, Mean D-Loss for generated images: 0.0  Mean D-Accuracy for real images: 0, Mean D-Accuracy for generated images: 0 || \n",
            "|T| ---------------------------------------------------------------> |V| ------------------------------>\n",
            "|D| Mean G-Loss: 15.32607650756836, Mean D-Loss: 1.7784909687179606e-06, Mean D-Loss for real images: 1.911089930217713e-05, Mean D-Loss for generated images: 0.0  Mean D-Accuracy for real images: 0, Mean D-Accuracy for generated images: 0 || \n",
            "|T| ---------------------------------------------------------------> |V| -------------------------------->\n",
            "|D| Mean G-Loss: 15.424947738647461, Mean D-Loss: 5.615946108150638e-08, Mean D-Loss for real images: 1.2346695257292595e-05, Mean D-Loss for generated images: 0.0  Mean D-Accuracy for real images: 0, Mean D-Accuracy for generated images: 0 || \n",
            "|T| --------------------------Manual abortion.. to save the current model answer '1'1\n"
          ],
          "name": "stdout"
        }
      ]
    }
  ]
}