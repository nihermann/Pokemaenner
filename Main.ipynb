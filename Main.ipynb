{
  "nbformat": 4,
  "nbformat_minor": 0,
  "metadata": {
    "kernelspec": {
      "name": "drl",
      "language": "python",
      "display_name": "drl"
    },
    "language_info": {
      "codemirror_mode": {
        "name": "ipython",
        "version": 2
      },
      "file_extension": ".py",
      "mimetype": "text/x-python",
      "name": "python",
      "nbconvert_exporter": "python",
      "pygments_lexer": "ipython2",
      "version": "2.7.6"
    },
    "colab": {
      "name": "Main.ipynb",
      "provenance": []
    }
  },
  "cells": [
    {
      "cell_type": "code",
      "metadata": {
        "pycharm": {
          "name": "#%%\n"
        },
        "cellView": "form",
        "id": "4GRx2L6zBX2X"
      },
      "source": [
        "#@title # Using Gan to create new Pokemon\n",
        "import tensorflow as tf\n",
        "# from manager import GAN_Manager"
      ],
      "execution_count": 2,
      "outputs": []
    },
    {
      "cell_type": "code",
      "metadata": {
        "cellView": "form",
        "id": "bzkufT1iBke_"
      },
      "source": [
        "#@title ## Data Settings\n",
        "image_shape = (200, 200) #@param"
      ],
      "execution_count": null,
      "outputs": []
    },
    {
      "cell_type": "code",
      "metadata": {
        "pycharm": {
          "name": "#%%\n"
        },
        "cellView": "form",
        "id": "2nhNWVrlBX2Y"
      },
      "source": [
        "#@title Generator Arguments\n",
        "latentspace = 10 #@param {type:\"slider\", min:2, max:20, step:1}\n",
        "\n",
        "generator_kwargs = {\n",
        "    \"latentspace\": latentspace\n",
        "}"
      ],
      "execution_count": 3,
      "outputs": []
    },
    {
      "cell_type": "code",
      "metadata": {
        "pycharm": {
          "name": "#%%\n"
        },
        "cellView": "form",
        "id": "N4zk9ST7BX2Y"
      },
      "source": [
        "#@title ## Discriminator Arguments\n",
        "discriminator_kwargs = {\n",
        "    \"input_shape\": 0\n",
        "}"
      ],
      "execution_count": 4,
      "outputs": []
    },
    {
      "cell_type": "code",
      "metadata": {
        "pycharm": {
          "name": "#%%\n"
        },
        "cellView": "form",
        "id": "peB1T2J6BX2Y"
      },
      "source": [
        "#@title ## Hyperparameters\n",
        "\n",
        "\n",
        "batch_size = 62 #@param {type:\"integer\"}\n",
        "loss_function = \"Mean Squared Error\" #@param [\"Mean Squared Error\"]\n",
        "optimizer = \"Adam\" #@param [\"Adam\", \"RMSprop\", \"SGD\"]\n",
        "learning_rate = 0.001 #@param {type:\"number\"}\n",
        "\n",
        "\n",
        "## Dropdown equivalents\n",
        "loss_functions = {\n",
        "    \"Mean Squared Error\": tf.keras.losses.MSE\n",
        "}\n",
        "\n",
        "optimizers = {\n",
        "    \"Adam\": tf.keras.optimizers.Adam(learning_rate),\n",
        "    \"RMSprop\": tf.keras.optimizers.RMSprop(learning_rate),\n",
        "    \"SGD\": tf.keras.optimizers.SGD\n",
        "}\n",
        "\n",
        "\n",
        "## Final\n",
        "kwargs = {\n",
        "    \"batch_size\": batch_size,\n",
        "    \"loss\": loss_functions[loss_function],\n",
        "    \"optimizer\": optimizers[optimizer]\n",
        "}\n",
        "\n",
        "# manager = GAN_Manager(\n",
        "#     kwargs=kwargs,\n",
        "#     generator_kwargs=generator_kwargs,\n",
        "#     discriminator_kwargs=discriminator_kwargs\n",
        "# )"
      ],
      "execution_count": null,
      "outputs": []
    }
  ]
}