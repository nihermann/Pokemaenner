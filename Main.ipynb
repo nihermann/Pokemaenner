{
 "nbformat": 4,
 "nbformat_minor": 0,
 "metadata": {
  "kernelspec": {
   "name": "drl",
   "language": "python",
   "display_name": "drl"
  },
  "language_info": {
   "codemirror_mode": {
    "name": "ipython",
    "version": 2
   },
   "file_extension": ".py",
   "mimetype": "text/x-python",
   "name": "python",
   "nbconvert_exporter": "python",
   "pygments_lexer": "ipython2",
   "version": "2.7.6"
  },
  "colab": {
   "name": "Main.ipynb",
   "provenance": [],
   "include_colab_link": true
  }
 },
 "cells": [
  {
   "cell_type": "markdown",
   "metadata": {
    "id": "view-in-github",
    "colab_type": "text"
   },
   "source": [
    "<a href=\"https://colab.research.google.com/github/nihermann/Pokemaenner/blob/main/Main.ipynb\" target=\"_parent\"><img src=\"https://colab.research.google.com/assets/colab-badge.svg\" alt=\"Open In Colab\"/></a>"
   ]
  },
  {
   "cell_type": "code",
   "metadata": {
    "id": "AcOo6FsZQBeU",
    "outputId": "46fdf6f7-daca-492b-a13f-00e53baeeca0",
    "colab": {
     "base_uri": "https://localhost:8080/"
    }
   },
   "source": [
    "##################################### Console #####################################\n",
    "# !git clone https://github.com/nihermann/Pokemaenner.git\n",
    "# %cd Pokemaenner/\n",
    "# !git status\n",
    "###################################################################################"
   ],
   "execution_count": 8,
   "outputs": []
  },
  {
   "cell_type": "code",
   "metadata": {
    "pycharm": {
     "name": "#%%\n"
    },
    "id": "4GRx2L6zBX2X"
   },
   "source": [
    "#@title # Using Gan to create new Pokemon\n",
    "import tensorflow as tf\n",
    "from manager import GANManager\n",
    "from data import DataGenerator\n",
    "import GAN"
   ],
   "execution_count": 9,
   "outputs": []
  },
  {
   "cell_type": "code",
   "metadata": {
    "id": "bzkufT1iBke_"
   },
   "source": [
    "#@title ## Data Settings\n",
    "image_shape = (256, 256) #@param\n",
    "image_path = \"images\" #@param {type:\"string\"}\n",
    "batch_size = 32 #@param {type:\"integer\"}\n",
    "validation_split = 0.1 #@param {type:\"slider\", min:0, max:0.5, step:0.1}\n",
    "shuffle = True #@param {type:\"boolean\"}\n",
    "\n",
    "data = DataGenerator(\n",
    "    img_path=image_path,\n",
    "    batch_size=batch_size,\n",
    "    img_height=image_shape[0],\n",
    "    img_width=image_shape[1],\n",
    "    validation_split=validation_split,\n",
    "    shuffle=shuffle\n",
    ")"
   ],
   "execution_count": 10,
   "outputs": [
    {
     "name": "stdout",
     "output_type": "stream",
     "text": [
      "Found 10135 files belonging to 14 classes.\n",
      "Using 9122 files for training.\n",
      "Found 10135 files belonging to 14 classes.\n",
      "Using 1013 files for validation.\n"
     ]
    }
   ]
  },
  {
   "cell_type": "code",
   "metadata": {
    "pycharm": {
     "name": "#%%\n"
    },
    "id": "2nhNWVrlBX2Y"
   },
   "source": [
    "#@title Generator Arguments\n",
    "latentspace = 10 #@param {type:\"slider\", min:2, max:20, step:1}\n",
    "\n",
    "\n",
    "generator = GAN.Generator(\n",
    "    latentspace=latentspace\n",
    ")"
   ],
   "execution_count": 11,
   "outputs": []
  },
  {
   "cell_type": "code",
   "metadata": {
    "pycharm": {
     "name": "#%%\n"
    },
    "cellView": "form",
    "id": "N4zk9ST7BX2Y"
   },
   "source": [
    "#@title ## Discriminator Arguments\n",
    "discriminator = GAN.Discriminator(\n",
    "    input_shape=(None, image_shape[0], image_shape[1], 4)\n",
    ")"
   ],
   "execution_count": 12,
   "outputs": []
  },
  {
   "cell_type": "code",
   "metadata": {
    "pycharm": {
     "name": "#%%\n"
    },
    "id": "peB1T2J6BX2Y",
    "colab": {
     "base_uri": "https://localhost:8080/"
    },
    "outputId": "6ecc226f-9d7b-4c3f-a3ac-cccbd16b4b63"
   },
   "source": [
    "#@title ## Hyperparameters\n",
    "\n",
    "\n",
    "loss_function = \"Mean Squared Error\" #@param [\"Binary Cross Entropy\", \"Mean Squared Error\"]\n",
    "optimizer = \"Adam\" #@param [\"Adam\", \"RMSprop\", \"SGD\"]\n",
    "learning_rate = 0.001 #@param {type:\"number\"}\n",
    "\n",
    "\n",
    "## Dropdown equivalents\n",
    "loss_functions = {\n",
    "    \"Binary Cross Entropy\": tf.keras.losses.BinaryCrossentropy(),\n",
    "    \"Mean Squared Error\": tf.keras.losses.MSE\n",
    "}\n",
    "\n",
    "optimizers = {\n",
    "    \"Adam\": tf.keras.optimizers.Adam(learning_rate),\n",
    "    \"RMSprop\": tf.keras.optimizers.RMSprop(learning_rate),\n",
    "    \"SGD\": tf.keras.optimizers.SGD\n",
    "}\n",
    "\n",
    "\n",
    "## Final\n",
    "kwargs = {\n",
    "    \"batch_size\": batch_size,\n",
    "    \"loss\": loss_functions[loss_function],\n",
    "    \"optimizer\": optimizers[optimizer]\n",
    "}\n",
    "\n",
    "manager = GANManager(\n",
    "    kwargs=kwargs,\n",
    "    generator=generator,\n",
    "    discriminator=discriminator,\n",
    "    data=data\n",
    ")"
   ],
   "execution_count": 13,
   "outputs": []
  },
  {
   "cell_type": "code",
   "execution_count": 14,
   "outputs": [
    {
     "name": "stdout",
     "output_type": "stream",
     "text": [
      "|T| -"
     ]
    },
    {
     "ename": "ValueError",
     "evalue": "too many values to unpack (expected 2)",
     "output_type": "error",
     "traceback": [
      "\u001B[1;31m---------------------------------------------------------------------------\u001B[0m",
      "\u001B[1;31mValueError\u001B[0m                                Traceback (most recent call last)",
      "\u001B[1;32m<ipython-input-14-b0617cb30529>\u001B[0m in \u001B[0;36m<module>\u001B[1;34m\u001B[0m\n\u001B[1;32m----> 1\u001B[1;33m \u001B[0mmanager\u001B[0m\u001B[1;33m.\u001B[0m\u001B[0mtrain\u001B[0m\u001B[1;33m(\u001B[0m\u001B[1;36m5\u001B[0m\u001B[1;33m,\u001B[0m \u001B[0mprint_every\u001B[0m\u001B[1;33m=\u001B[0m\u001B[1;36m1\u001B[0m\u001B[1;33m,\u001B[0m \u001B[0msave_pictures_every\u001B[0m\u001B[1;33m=\u001B[0m\u001B[1;36m1\u001B[0m\u001B[1;33m,\u001B[0m \u001B[0mhow_many_pictures_to_save\u001B[0m\u001B[1;33m=\u001B[0m\u001B[1;36m10\u001B[0m\u001B[1;33m)\u001B[0m\u001B[1;33m\u001B[0m\u001B[1;33m\u001B[0m\u001B[0m\n\u001B[0m\u001B[0;32m      2\u001B[0m \u001B[1;33m\u001B[0m\u001B[0m\n\u001B[0;32m      3\u001B[0m \u001B[1;33m\u001B[0m\u001B[0m\n",
      "\u001B[1;32m~\\OneDrive\\Dokumente\\UniOsnabrueck\\Studium\\Informatik\\Python\\Pokemaenner\\manager.py\u001B[0m in \u001B[0;36mtrain\u001B[1;34m(self, epochs, samples_per_epoch, trainings_frequency, proportion_real, print_every, print_verbose, save_pictures_every, how_many_pictures_to_save, save_model_every)\u001B[0m\n\u001B[0;32m    170\u001B[0m                     \u001B[0mcount\u001B[0m \u001B[1;33m+=\u001B[0m \u001B[0mself\u001B[0m\u001B[1;33m.\u001B[0m\u001B[0mbatch_size\u001B[0m\u001B[1;33m\u001B[0m\u001B[1;33m\u001B[0m\u001B[0m\n\u001B[0;32m    171\u001B[0m \u001B[1;33m\u001B[0m\u001B[0m\n\u001B[1;32m--> 172\u001B[1;33m                     \u001B[0mimages\u001B[0m\u001B[1;33m,\u001B[0m \u001B[0m_\u001B[0m \u001B[1;33m=\u001B[0m \u001B[0mself\u001B[0m\u001B[1;33m.\u001B[0m\u001B[0mdata\u001B[0m\u001B[1;33m.\u001B[0m\u001B[0mtrainings_data\u001B[0m\u001B[1;33m.\u001B[0m\u001B[0mtake\u001B[0m\u001B[1;33m(\u001B[0m\u001B[0mtake_reals\u001B[0m\u001B[1;33m)\u001B[0m\u001B[1;33m\u001B[0m\u001B[1;33m\u001B[0m\u001B[0m\n\u001B[0m\u001B[0;32m    173\u001B[0m                     \u001B[0mgenerator_loss\u001B[0m\u001B[1;33m,\u001B[0m \u001B[0mdiscriminator_loss\u001B[0m \u001B[1;33m=\u001B[0m \u001B[0mself\u001B[0m\u001B[1;33m.\u001B[0m\u001B[0mforward_step\u001B[0m\u001B[1;33m(\u001B[0m\u001B[0mimages\u001B[0m\u001B[1;33m,\u001B[0m \u001B[0mtrainings_frequency\u001B[0m\u001B[1;33m,\u001B[0m \u001B[0mproportion_real\u001B[0m\u001B[1;33m)\u001B[0m\u001B[1;33m\u001B[0m\u001B[1;33m\u001B[0m\u001B[0m\n\u001B[0;32m    174\u001B[0m \u001B[1;33m\u001B[0m\u001B[0m\n",
      "\u001B[1;31mValueError\u001B[0m: too many values to unpack (expected 2)"
     ]
    }
   ],
   "source": [
    "manager.train(5, print_every=1, save_pictures_every=1, how_many_pictures_to_save=10)\n",
    "\n"
   ],
   "metadata": {
    "collapsed": false,
    "pycharm": {
     "name": "#%%\n"
    }
   }
  }
 ]
}