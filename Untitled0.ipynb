{
  "nbformat": 4,
  "nbformat_minor": 0,
  "metadata": {
    "colab": {
      "name": "Untitled0.ipynb",
      "provenance": [],
      "authorship_tag": "ABX9TyO3iOFHiv77cuIaIL1ZDzor",
      "include_colab_link": true
    },
    "kernelspec": {
      "name": "python3",
      "display_name": "Python 3"
    }
  },
  "cells": [
    {
      "cell_type": "markdown",
      "metadata": {
        "id": "view-in-github",
        "colab_type": "text"
      },
      "source": [
        "<a href=\"https://colab.research.google.com/github/nihermann/Pokemaenner/blob/main/Untitled0.ipynb\" target=\"_parent\"><img src=\"https://colab.research.google.com/assets/colab-badge.svg\" alt=\"Open In Colab\"/></a>"
      ]
    },
    {
      "cell_type": "code",
      "metadata": {
        "id": "QRVOsiD8bRE8"
      },
      "source": [
        "import gym\r\n",
        "import tensorflow as tf"
      ],
      "execution_count": 1,
      "outputs": []
    },
    {
      "cell_type": "code",
      "metadata": {
        "id": "tPxnJwoFbSk2",
        "outputId": "c11a4f33-3402-4d77-da35-d47662064abf",
        "colab": {
          "base_uri": "https://localhost:8080/"
        }
      },
      "source": [
        "g = gym.make(\"CartPole-v0\")\r\n",
        "print(\"Hello Michi\")"
      ],
      "execution_count": 2,
      "outputs": [
        {
          "output_type": "stream",
          "text": [
            "Hello Michi\n"
          ],
          "name": "stdout"
        }
      ]
    },
    {
      "cell_type": "code",
      "metadata": {
        "colab": {
          "base_uri": "https://localhost:8080/"
        },
        "id": "vtL0472RbfAB",
        "outputId": "769b6a0d-b887-48ac-f192-d09fffa7de63"
      },
      "source": [
        "mask = tf.expand_dims(tf.constant([1,0,1,0,1,0,1,0]), axis=1)\r\n",
        "t = tf.reshape(tf.range(1,17), (8,2))\r\n",
        "tf.gather_nd(t, mask, 1), t, mask"
      ],
      "execution_count": 3,
      "outputs": [
        {
          "output_type": "execute_result",
          "data": {
            "text/plain": [
              "(<tf.Tensor: shape=(8,), dtype=int32, numpy=array([ 2,  3,  6,  7, 10, 11, 14, 15], dtype=int32)>,\n",
              " <tf.Tensor: shape=(8, 2), dtype=int32, numpy=\n",
              " array([[ 1,  2],\n",
              "        [ 3,  4],\n",
              "        [ 5,  6],\n",
              "        [ 7,  8],\n",
              "        [ 9, 10],\n",
              "        [11, 12],\n",
              "        [13, 14],\n",
              "        [15, 16]], dtype=int32)>,\n",
              " <tf.Tensor: shape=(8, 1), dtype=int32, numpy=\n",
              " array([[1],\n",
              "        [0],\n",
              "        [1],\n",
              "        [0],\n",
              "        [1],\n",
              "        [0],\n",
              "        [1],\n",
              "        [0]], dtype=int32)>)"
            ]
          },
          "metadata": {
            "tags": []
          },
          "execution_count": 3
        }
      ]
    }
  ]
}