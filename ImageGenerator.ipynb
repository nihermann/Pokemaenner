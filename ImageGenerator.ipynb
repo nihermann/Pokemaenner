{
  "nbformat": 4,
  "nbformat_minor": 0,
  "metadata": {
    "colab": {
      "name": "ImageGenerator.ipynb",
      "provenance": [],
      "collapsed_sections": [],
      "mount_file_id": "1Uk0tRn4IE9CkQ_sRHVYham1lhw2KUFA-",
      "authorship_tag": "ABX9TyOeA6qWT3beMGq+ZE9QIi/c",
      "include_colab_link": true
    },
    "kernelspec": {
      "name": "python3",
      "display_name": "Python 3"
    },
    "accelerator": "GPU"
  },
  "cells": [
    {
      "cell_type": "markdown",
      "metadata": {
        "id": "view-in-github",
        "colab_type": "text"
      },
      "source": [
        "<a href=\"https://colab.research.google.com/github/nihermann/Pokemaenner/blob/main/ImageGenerator.ipynb\" target=\"_parent\"><img src=\"https://colab.research.google.com/assets/colab-badge.svg\" alt=\"Open In Colab\"/></a>"
      ]
    },
    {
      "cell_type": "code",
      "metadata": {
        "id": "dNNI3o_A4ITE",
        "colab": {
          "base_uri": "https://localhost:8080/"
        },
        "outputId": "3395a646-f20f-410d-cfba-288078658271"
      },
      "source": [
        "import tensorflow as tf\r\n",
        "import glob\r\n",
        "from tensorflow import keras\r\n",
        "from tensorflow.keras import layers\r\n",
        "import numpy as np\r\n",
        "import matplotlib.pyplot as plt\r\n",
        "import os\r\n",
        "import imageio\r\n",
        "import time\r\n",
        "import PIL\r\n",
        "from IPython import display\r\n",
        "#if not already installed\r\n",
        "!pip install -q git+https://github.com/tensorflow/docs \r\n",
        "import tensorflow_docs.vis.embed as embed\r\n"
      ],
      "execution_count": 2,
      "outputs": [
        {
          "output_type": "stream",
          "text": [
            "\u001b[?25l\r\u001b[K     |▎                               | 10kB 23.8MB/s eta 0:00:01\r\u001b[K     |▋                               | 20kB 9.5MB/s eta 0:00:01\r\u001b[K     |█                               | 30kB 7.5MB/s eta 0:00:01\r\u001b[K     |█▎                              | 40kB 6.5MB/s eta 0:00:01\r\u001b[K     |█▋                              | 51kB 4.0MB/s eta 0:00:01\r\u001b[K     |██                              | 61kB 4.3MB/s eta 0:00:01\r\u001b[K     |██▎                             | 71kB 4.6MB/s eta 0:00:01\r\u001b[K     |██▋                             | 81kB 4.7MB/s eta 0:00:01\r\u001b[K     |██▉                             | 92kB 5.1MB/s eta 0:00:01\r\u001b[K     |███▏                            | 102kB 5.1MB/s eta 0:00:01\r\u001b[K     |███▌                            | 112kB 5.1MB/s eta 0:00:01\r\u001b[K     |███▉                            | 122kB 5.1MB/s eta 0:00:01\r\u001b[K     |████▏                           | 133kB 5.1MB/s eta 0:00:01\r\u001b[K     |████▌                           | 143kB 5.1MB/s eta 0:00:01\r\u001b[K     |████▉                           | 153kB 5.1MB/s eta 0:00:01\r\u001b[K     |█████▏                          | 163kB 5.1MB/s eta 0:00:01\r\u001b[K     |█████▌                          | 174kB 5.1MB/s eta 0:00:01\r\u001b[K     |█████▊                          | 184kB 5.1MB/s eta 0:00:01\r\u001b[K     |██████                          | 194kB 5.1MB/s eta 0:00:01\r\u001b[K     |██████▍                         | 204kB 5.1MB/s eta 0:00:01\r\u001b[K     |██████▊                         | 215kB 5.1MB/s eta 0:00:01\r\u001b[K     |███████                         | 225kB 5.1MB/s eta 0:00:01\r\u001b[K     |███████▍                        | 235kB 5.1MB/s eta 0:00:01\r\u001b[K     |███████▊                        | 245kB 5.1MB/s eta 0:00:01\r\u001b[K     |████████                        | 256kB 5.1MB/s eta 0:00:01\r\u001b[K     |████████▎                       | 266kB 5.1MB/s eta 0:00:01\r\u001b[K     |████████▋                       | 276kB 5.1MB/s eta 0:00:01\r\u001b[K     |█████████                       | 286kB 5.1MB/s eta 0:00:01\r\u001b[K     |█████████▎                      | 296kB 5.1MB/s eta 0:00:01\r\u001b[K     |█████████▋                      | 307kB 5.1MB/s eta 0:00:01\r\u001b[K     |██████████                      | 317kB 5.1MB/s eta 0:00:01\r\u001b[K     |██████████▎                     | 327kB 5.1MB/s eta 0:00:01\r\u001b[K     |██████████▋                     | 337kB 5.1MB/s eta 0:00:01\r\u001b[K     |███████████                     | 348kB 5.1MB/s eta 0:00:01\r\u001b[K     |███████████▏                    | 358kB 5.1MB/s eta 0:00:01\r\u001b[K     |███████████▌                    | 368kB 5.1MB/s eta 0:00:01\r\u001b[K     |███████████▉                    | 378kB 5.1MB/s eta 0:00:01\r\u001b[K     |████████████▏                   | 389kB 5.1MB/s eta 0:00:01\r\u001b[K     |████████████▌                   | 399kB 5.1MB/s eta 0:00:01\r\u001b[K     |████████████▉                   | 409kB 5.1MB/s eta 0:00:01\r\u001b[K     |█████████████▏                  | 419kB 5.1MB/s eta 0:00:01\r\u001b[K     |█████████████▌                  | 430kB 5.1MB/s eta 0:00:01\r\u001b[K     |█████████████▊                  | 440kB 5.1MB/s eta 0:00:01\r\u001b[K     |██████████████                  | 450kB 5.1MB/s eta 0:00:01\r\u001b[K     |██████████████▍                 | 460kB 5.1MB/s eta 0:00:01\r\u001b[K     |██████████████▊                 | 471kB 5.1MB/s eta 0:00:01\r\u001b[K     |███████████████                 | 481kB 5.1MB/s eta 0:00:01\r\u001b[K     |███████████████▍                | 491kB 5.1MB/s eta 0:00:01\r\u001b[K     |███████████████▊                | 501kB 5.1MB/s eta 0:00:01\r\u001b[K     |████████████████                | 512kB 5.1MB/s eta 0:00:01\r\u001b[K     |████████████████▍               | 522kB 5.1MB/s eta 0:00:01\r\u001b[K     |████████████████▋               | 532kB 5.1MB/s eta 0:00:01\r\u001b[K     |█████████████████               | 542kB 5.1MB/s eta 0:00:01\r\u001b[K     |█████████████████▎              | 552kB 5.1MB/s eta 0:00:01\r\u001b[K     |█████████████████▋              | 563kB 5.1MB/s eta 0:00:01\r\u001b[K     |██████████████████              | 573kB 5.1MB/s eta 0:00:01\r\u001b[K     |██████████████████▎             | 583kB 5.1MB/s eta 0:00:01\r\u001b[K     |██████████████████▋             | 593kB 5.1MB/s eta 0:00:01\r\u001b[K     |███████████████████             | 604kB 5.1MB/s eta 0:00:01\r\u001b[K     |███████████████████▏            | 614kB 5.1MB/s eta 0:00:01\r\u001b[K     |███████████████████▌            | 624kB 5.1MB/s eta 0:00:01\r\u001b[K     |███████████████████▉            | 634kB 5.1MB/s eta 0:00:01\r\u001b[K     |████████████████████▏           | 645kB 5.1MB/s eta 0:00:01\r\u001b[K     |████████████████████▌           | 655kB 5.1MB/s eta 0:00:01\r\u001b[K     |████████████████████▉           | 665kB 5.1MB/s eta 0:00:01\r\u001b[K     |█████████████████████▏          | 675kB 5.1MB/s eta 0:00:01\r\u001b[K     |█████████████████████▌          | 686kB 5.1MB/s eta 0:00:01\r\u001b[K     |█████████████████████▉          | 696kB 5.1MB/s eta 0:00:01\r\u001b[K     |██████████████████████          | 706kB 5.1MB/s eta 0:00:01\r\u001b[K     |██████████████████████▍         | 716kB 5.1MB/s eta 0:00:01\r\u001b[K     |██████████████████████▊         | 727kB 5.1MB/s eta 0:00:01\r\u001b[K     |███████████████████████         | 737kB 5.1MB/s eta 0:00:01\r\u001b[K     |███████████████████████▍        | 747kB 5.1MB/s eta 0:00:01\r\u001b[K     |███████████████████████▊        | 757kB 5.1MB/s eta 0:00:01\r\u001b[K     |████████████████████████        | 768kB 5.1MB/s eta 0:00:01\r\u001b[K     |████████████████████████▍       | 778kB 5.1MB/s eta 0:00:01\r\u001b[K     |████████████████████████▋       | 788kB 5.1MB/s eta 0:00:01\r\u001b[K     |█████████████████████████       | 798kB 5.1MB/s eta 0:00:01\r\u001b[K     |█████████████████████████▎      | 808kB 5.1MB/s eta 0:00:01\r\u001b[K     |█████████████████████████▋      | 819kB 5.1MB/s eta 0:00:01\r\u001b[K     |██████████████████████████      | 829kB 5.1MB/s eta 0:00:01\r\u001b[K     |██████████████████████████▎     | 839kB 5.1MB/s eta 0:00:01\r\u001b[K     |██████████████████████████▋     | 849kB 5.1MB/s eta 0:00:01\r\u001b[K     |███████████████████████████     | 860kB 5.1MB/s eta 0:00:01\r\u001b[K     |███████████████████████████▎    | 870kB 5.1MB/s eta 0:00:01\r\u001b[K     |███████████████████████████▌    | 880kB 5.1MB/s eta 0:00:01\r\u001b[K     |███████████████████████████▉    | 890kB 5.1MB/s eta 0:00:01\r\u001b[K     |████████████████████████████▏   | 901kB 5.1MB/s eta 0:00:01\r\u001b[K     |████████████████████████████▌   | 911kB 5.1MB/s eta 0:00:01\r\u001b[K     |████████████████████████████▉   | 921kB 5.1MB/s eta 0:00:01\r\u001b[K     |█████████████████████████████▏  | 931kB 5.1MB/s eta 0:00:01\r\u001b[K     |█████████████████████████████▌  | 942kB 5.1MB/s eta 0:00:01\r\u001b[K     |█████████████████████████████▉  | 952kB 5.1MB/s eta 0:00:01\r\u001b[K     |██████████████████████████████▏ | 962kB 5.1MB/s eta 0:00:01\r\u001b[K     |██████████████████████████████▍ | 972kB 5.1MB/s eta 0:00:01\r\u001b[K     |██████████████████████████████▊ | 983kB 5.1MB/s eta 0:00:01\r\u001b[K     |███████████████████████████████ | 993kB 5.1MB/s eta 0:00:01\r\u001b[K     |███████████████████████████████▍| 1.0MB 5.1MB/s eta 0:00:01\r\u001b[K     |███████████████████████████████▊| 1.0MB 5.1MB/s eta 0:00:01\r\u001b[K     |████████████████████████████████| 1.0MB 5.1MB/s \n",
            "\u001b[?25h  Building wheel for tensorflow-docs (setup.py) ... \u001b[?25l\u001b[?25hdone\n"
          ],
          "name": "stdout"
        }
      ]
    },
    {
      "cell_type": "code",
      "metadata": {
        "colab": {
          "base_uri": "https://localhost:8080/"
        },
        "id": "cn4ifoFG6Q_a",
        "outputId": "568c1e1b-9cca-4ff6-b38f-9eb937914fd3"
      },
      "source": [
        "from google.colab import drive\r\n",
        "drive.mount('/content/drive')"
      ],
      "execution_count": 3,
      "outputs": [
        {
          "output_type": "stream",
          "text": [
            "Drive already mounted at /content/drive; to attempt to forcibly remount, call drive.mount(\"/content/drive\", force_remount=True).\n"
          ],
          "name": "stdout"
        }
      ]
    },
    {
      "cell_type": "code",
      "metadata": {
        "colab": {
          "base_uri": "https://localhost:8080/"
        },
        "id": "TyDnCAQ1RUk6",
        "outputId": "8f500cb0-714d-440a-e64f-84a01e90127e"
      },
      "source": [
        "# preparing the dataset\r\n",
        "dataset = keras.preprocessing.image_dataset_from_directory(\r\n",
        "    \"/content/drive/MyDrive/pokemaenner/data_white\", label_mode=None, image_size=(64, 64), batch_size=32\r\n",
        ")\r\n",
        "dataset = dataset.prefetch(buffer_size=tf.data.experimental.AUTOTUNE)\r\n",
        "dataset = dataset.map(lambda x: x / 255.0)"
      ],
      "execution_count": 5,
      "outputs": [
        {
          "output_type": "stream",
          "text": [
            "Found 10119 files belonging to 1 classes.\n"
          ],
          "name": "stdout"
        }
      ]
    },
    {
      "cell_type": "code",
      "metadata": {
        "colab": {
          "base_uri": "https://localhost:8080/",
          "height": 248
        },
        "id": "FIRv5newRNOE",
        "outputId": "ad151d76-5bc4-4ebe-f5c9-3bcac2e857ac"
      },
      "source": [
        "# displaying the data\r\n",
        "for x in dataset:\r\n",
        "    plt.axis(\"off\")\r\n",
        "    plt.imshow((x.numpy() * 255).astype(\"int32\")[0])\r\n",
        "    break"
      ],
      "execution_count": 6,
      "outputs": [
        {
          "output_type": "display_data",
          "data": {
            "image/png": "[encoded data removed]",
            "text/plain": [
              "<Figure size 432x288 with 1 Axes>"
            ]
          },
          "metadata": {
            "tags": [],
            "needs_background": "light"
          }
        }
      ]
    },
    {
      "cell_type": "code",
      "metadata": {
        "colab": {
          "base_uri": "https://localhost:8080/"
        },
        "id": "bVBNGzTdRRoO",
        "outputId": "b47625a4-0fa4-4d73-d524-3332bcf19415"
      },
      "source": [
        "# discriminator\r\n",
        "discriminator = keras.Sequential(\r\n",
        "    [\r\n",
        "        keras.Input(shape=(64, 64, 3)),\r\n",
        "        layers.Conv2D(64, kernel_size=4, strides=2, padding=\"same\"),\r\n",
        "        layers.LeakyReLU(alpha=0.2),\r\n",
        "        layers.Conv2D(128, kernel_size=4, strides=2, padding=\"same\"),\r\n",
        "        layers.LeakyReLU(alpha=0.2),\r\n",
        "        layers.Conv2D(128, kernel_size=4, strides=2, padding=\"same\"),\r\n",
        "        layers.LeakyReLU(alpha=0.2),\r\n",
        "        layers.Flatten(),\r\n",
        "        layers.Dropout(0.5),\r\n",
        "        layers.Dense(1, activation=\"sigmoid\"),\r\n",
        "    ],\r\n",
        "    name=\"discriminator\",\r\n",
        ")\r\n",
        "discriminator.summary()\r\n",
        "\r\n",
        "# generator\r\n",
        "latent_dim = 50\r\n",
        "\r\n",
        "generator = keras.Sequential(\r\n",
        "    [\r\n",
        "        keras.Input(shape=(latent_dim,)),\r\n",
        "        layers.Dense(8 * 8 * 128),\r\n",
        "        layers.Reshape((8, 8, 128)),\r\n",
        "        layers.Conv2DTranspose(128, kernel_size=4, strides=2, padding=\"same\"),\r\n",
        "        layers.BatchNormalization(),\r\n",
        "        layers.LeakyReLU(alpha=0.2),\r\n",
        "        layers.Conv2DTranspose(256, kernel_size=4, strides=2, padding=\"same\"),\r\n",
        "        layers.BatchNormalization(),\r\n",
        "        layers.LeakyReLU(alpha=0.2),\r\n",
        "        layers.Conv2DTranspose(512, kernel_size=4, strides=2, padding=\"same\"),\r\n",
        "        layers.BatchNormalization(),\r\n",
        "        layers.LeakyReLU(alpha=0.2),\r\n",
        "        layers.Conv2D(3, kernel_size=5, padding=\"same\", activation=\"sigmoid\"),\r\n",
        "    ],\r\n",
        "    name=\"generator\",\r\n",
        ")\r\n",
        "generator.summary()"
      ],
      "execution_count": 23,
      "outputs": [
        {
          "output_type": "stream",
          "text": [
            "Model: \"discriminator\"\n",
            "_________________________________________________________________\n",
            "Layer (type)                 Output Shape              Param #   \n",
            "=================================================================\n",
            "conv2d_4 (Conv2D)            (None, 32, 32, 64)        3136      \n",
            "_________________________________________________________________\n",
            "leaky_re_lu_6 (LeakyReLU)    (None, 32, 32, 64)        0         \n",
            "_________________________________________________________________\n",
            "conv2d_5 (Conv2D)            (None, 16, 16, 128)       131200    \n",
            "_________________________________________________________________\n",
            "leaky_re_lu_7 (LeakyReLU)    (None, 16, 16, 128)       0         \n",
            "_________________________________________________________________\n",
            "conv2d_6 (Conv2D)            (None, 8, 8, 128)         262272    \n",
            "_________________________________________________________________\n",
            "leaky_re_lu_8 (LeakyReLU)    (None, 8, 8, 128)         0         \n",
            "_________________________________________________________________\n",
            "flatten_1 (Flatten)          (None, 8192)              0         \n",
            "_________________________________________________________________\n",
            "dropout_1 (Dropout)          (None, 8192)              0         \n",
            "_________________________________________________________________\n",
            "dense_2 (Dense)              (None, 1)                 8193      \n",
            "=================================================================\n",
            "Total params: 404,801\n",
            "Trainable params: 404,801\n",
            "Non-trainable params: 0\n",
            "_________________________________________________________________\n",
            "Model: \"generator\"\n",
            "_________________________________________________________________\n",
            "Layer (type)                 Output Shape              Param #   \n",
            "=================================================================\n",
            "dense_3 (Dense)              (None, 8192)              417792    \n",
            "_________________________________________________________________\n",
            "reshape_1 (Reshape)          (None, 8, 8, 128)         0         \n",
            "_________________________________________________________________\n",
            "conv2d_transpose_3 (Conv2DTr (None, 16, 16, 128)       262272    \n",
            "_________________________________________________________________\n",
            "batch_normalization_3 (Batch (None, 16, 16, 128)       512       \n",
            "_________________________________________________________________\n",
            "leaky_re_lu_9 (LeakyReLU)    (None, 16, 16, 128)       0         \n",
            "_________________________________________________________________\n",
            "conv2d_transpose_4 (Conv2DTr (None, 32, 32, 256)       524544    \n",
            "_________________________________________________________________\n",
            "batch_normalization_4 (Batch (None, 32, 32, 256)       1024      \n",
            "_________________________________________________________________\n",
            "leaky_re_lu_10 (LeakyReLU)   (None, 32, 32, 256)       0         \n",
            "_________________________________________________________________\n",
            "conv2d_transpose_5 (Conv2DTr (None, 64, 64, 512)       2097664   \n",
            "_________________________________________________________________\n",
            "batch_normalization_5 (Batch (None, 64, 64, 512)       2048      \n",
            "_________________________________________________________________\n",
            "leaky_re_lu_11 (LeakyReLU)   (None, 64, 64, 512)       0         \n",
            "_________________________________________________________________\n",
            "conv2d_7 (Conv2D)            (None, 64, 64, 3)         38403     \n",
            "=================================================================\n",
            "Total params: 3,344,259\n",
            "Trainable params: 3,342,467\n",
            "Non-trainable params: 1,792\n",
            "_________________________________________________________________\n"
          ],
          "name": "stdout"
        }
      ]
    },
    {
      "cell_type": "code",
      "metadata": {
        "id": "ZqjAW0eVRekS"
      },
      "source": [
        "class GAN(keras.Model):\r\n",
        "    def __init__(self, discriminator, generator, latent_dim):\r\n",
        "        super(GAN, self).__init__()\r\n",
        "        self.discriminator = discriminator\r\n",
        "        self.generator = generator\r\n",
        "        self.latent_dim = latent_dim\r\n",
        "\r\n",
        "    def compile(self, d_optimizer, g_optimizer, loss_fn):\r\n",
        "        super(GAN, self).compile()\r\n",
        "        self.d_optimizer = d_optimizer\r\n",
        "        self.g_optimizer = g_optimizer\r\n",
        "        self.loss_fn = loss_fn\r\n",
        "        self.d_loss_metric = keras.metrics.Mean(name=\"d_loss\")\r\n",
        "        self.g_loss_metric = keras.metrics.Mean(name=\"g_loss\")\r\n",
        "\r\n",
        "    @property\r\n",
        "    def metrics(self):\r\n",
        "        return [self.d_loss_metric, self.g_loss_metric]\r\n",
        "\r\n",
        "    def train_step(self, real_images):\r\n",
        "        # Sample random points in the latent space\r\n",
        "        batch_size = tf.shape(real_images)[0]\r\n",
        "        random_latent_vectors = tf.random.normal(shape=(batch_size, self.latent_dim))\r\n",
        "\r\n",
        "        # Decode them to fake images\r\n",
        "        generated_images = self.generator(random_latent_vectors)\r\n",
        "\r\n",
        "        # Combine them with real images\r\n",
        "        combined_images = tf.concat([generated_images, real_images], axis=0)\r\n",
        "\r\n",
        "        # Assemble labels discriminating real from fake images\r\n",
        "        labels = tf.concat(\r\n",
        "            [tf.ones((batch_size, 1)), tf.zeros((batch_size, 1))], axis=0\r\n",
        "        )\r\n",
        "        # Add random noise to the labels - important trick!\r\n",
        "        labels += 0.05 * tf.random.uniform(tf.shape(labels))\r\n",
        "\r\n",
        "        # Train the discriminator\r\n",
        "        with tf.GradientTape() as tape:\r\n",
        "            predictions = self.discriminator(combined_images)\r\n",
        "            d_loss = self.loss_fn(labels, predictions)\r\n",
        "        grads = tape.gradient(d_loss, self.discriminator.trainable_weights)\r\n",
        "        self.d_optimizer.apply_gradients(\r\n",
        "            zip(grads, self.discriminator.trainable_weights)\r\n",
        "        )\r\n",
        "\r\n",
        "        # Sample random points in the latent space\r\n",
        "        random_latent_vectors = tf.random.normal(shape=(batch_size, self.latent_dim))\r\n",
        "\r\n",
        "        # Assemble labels that say \"all real images\"\r\n",
        "        misleading_labels = tf.zeros((batch_size, 1))\r\n",
        "\r\n",
        "        # Train the generator (note that we should *not* update the weights\r\n",
        "        # of the discriminator)!\r\n",
        "        with tf.GradientTape() as tape:\r\n",
        "            predictions = self.discriminator(self.generator(random_latent_vectors))\r\n",
        "            g_loss = self.loss_fn(misleading_labels, predictions)\r\n",
        "        grads = tape.gradient(g_loss, self.generator.trainable_weights)\r\n",
        "        self.g_optimizer.apply_gradients(zip(grads, self.generator.trainable_weights))\r\n",
        "\r\n",
        "        # Update metrics\r\n",
        "        self.d_loss_metric.update_state(d_loss)\r\n",
        "        self.g_loss_metric.update_state(g_loss)\r\n",
        "        return {\r\n",
        "            \"d_loss\": self.d_loss_metric.result(),\r\n",
        "            \"g_loss\": self.g_loss_metric.result(),\r\n",
        "        }"
      ],
      "execution_count": 8,
      "outputs": []
    },
    {
      "cell_type": "code",
      "metadata": {
        "id": "Xl3Qj2avRkXE"
      },
      "source": [
        "class GANMonitor(keras.callbacks.Callback):\r\n",
        "    def __init__(self, num_img=3, latent_dim=128, checkpoint_path = \"/content/drive/MyDrive/pokemaenner/model/training_1/cp.ckpt\"):\r\n",
        "        self.num_img = num_img\r\n",
        "        self.latent_dim = latent_dim\r\n",
        "        self.checkpoint_path = checkpoint_path\r\n",
        "\r\n",
        "\r\n",
        "    def on_epoch_end(self, epoch, logs=None):\r\n",
        "        tf.keras.callbacks.ModelCheckpoint(filepath=self.checkpoint_path,\r\n",
        "                                                  save_weights_only=True,\r\n",
        "                                                  verbose=1)\r\n",
        "        random_latent_vectors = tf.random.normal(shape=(self.num_img, self.latent_dim))\r\n",
        "        generated_images = self.model.generator(random_latent_vectors)\r\n",
        "        generated_images *= 255\r\n",
        "        generated_images.numpy()\r\n",
        "        for i in range(self.num_img):\r\n",
        "            img = keras.preprocessing.image.array_to_img(generated_images[i])\r\n",
        "            try:\r\n",
        "              img.save(\"/content/drive/MyDrive/pokemaenner/results/generated_img_%03d_%d.png\" % (epoch, i))\r\n",
        "            except:\r\n",
        "              img.save(\"/content/drive/MyDrive/pokemaenner/results\")\r\n"
      ],
      "execution_count": 10,
      "outputs": []
    },
    {
      "cell_type": "code",
      "metadata": {
        "id": "eJkvRYjMSmIG"
      },
      "source": [
        "epochs = 2\r\n",
        "\r\n",
        "gan = GAN(discriminator=discriminator, generator=generator, latent_dim=latent_dim)\r\n",
        "gan.compile(\r\n",
        "    d_optimizer=keras.optimizers.Adam(learning_rate=0.0001),\r\n",
        "    g_optimizer=keras.optimizers.Adam(learning_rate=0.0001),\r\n",
        "    loss_fn=keras.losses.BinaryCrossentropy(),\r\n",
        ")\r\n",
        "\r\n",
        "gan.fit(\r\n",
        "    dataset, epochs=epochs, callbacks=[GANMonitor(num_img=10, latent_dim=latent_dim)]\r\n",
        ")"
      ],
      "execution_count": null,
      "outputs": []
    },
    {
      "cell_type": "code",
      "metadata": {
        "colab": {
          "base_uri": "https://localhost:8080/"
        },
        "id": "bcSJEwufFLoo",
        "outputId": "c5b18db1-d156-495a-bc59-dc78f8a9eadc"
      },
      "source": [
        "new_model.save_weights(\"/content/drive/MyDrive/pokemaenner/model/gan_model\", save_format='tf')\r\n",
        "\r\n",
        "# Recreate the model\r\n",
        "gan = GAN(discriminator=discriminator, generator=generator, latent_dim=latent_dim)\r\n",
        "gan.compile(\r\n",
        "    d_optimizer=keras.optimizers.Adam(learning_rate=0.0001),\r\n",
        "    g_optimizer=keras.optimizers.Adam(learning_rate=0.0001),\r\n",
        "    loss_fn=keras.losses.BinaryCrossentropy(),\r\n",
        ")\r\n",
        "\r\n",
        "# Load the state of the old model\r\n",
        "gan.load_weights('/content/drive/MyDrive/pokemaenner/model/gan_model')\r\n"
      ],
      "execution_count": 34,
      "outputs": [
        {
          "output_type": "execute_result",
          "data": {
            "text/plain": [
              "<tensorflow.python.training.tracking.util.CheckpointLoadStatus at 0x7fa4403d7090>"
            ]
          },
          "metadata": {
            "tags": []
          },
          "execution_count": 34
        }
      ]
    },
    {
      "cell_type": "code",
      "metadata": {
        "colab": {
          "base_uri": "https://localhost:8080/"
        },
        "id": "2ubw98EbFcWt",
        "outputId": "b728da49-c0af-4d8a-ae35-647541155e85"
      },
      "source": [
        "epochs = 100\r\n",
        "new_model.fit(dataset, epochs=epochs, callbacks=[GANMonitor(num_img=10, latent_dim=latent_dim)])"
      ],
      "execution_count": null,
      "outputs": [
        {
          "output_type": "stream",
          "text": [
            "Epoch 1/100\n",
            "317/317 [==============================] - 210s 662ms/step - d_loss: 0.5699 - g_loss: 1.1675\n",
            "Epoch 2/100\n",
            "317/317 [==============================] - 214s 673ms/step - d_loss: 0.7314 - g_loss: 0.8900\n",
            "Epoch 3/100\n",
            "317/317 [==============================] - 212s 668ms/step - d_loss: 0.4116 - g_loss: 22.7893\n",
            "Epoch 4/100\n",
            "317/317 [==============================] - 214s 672ms/step - d_loss: 0.5896 - g_loss: 1.1880\n",
            "Epoch 5/100\n",
            "317/317 [==============================] - 212s 668ms/step - d_loss: 0.5567 - g_loss: 1.1655\n",
            "Epoch 6/100\n",
            "317/317 [==============================] - 214s 674ms/step - d_loss: 0.4798 - g_loss: 1.4150\n",
            "Epoch 7/100\n",
            "317/317 [==============================] - 210s 662ms/step - d_loss: 0.4698 - g_loss: 2.2026\n",
            "Epoch 8/100\n",
            "317/317 [==============================] - 213s 672ms/step - d_loss: 0.5052 - g_loss: 1.5084\n",
            "Epoch 9/100\n",
            "317/317 [==============================] - 212s 668ms/step - d_loss: 0.5374 - g_loss: 1.7603\n",
            "Epoch 10/100\n",
            "317/317 [==============================] - 215s 676ms/step - d_loss: 0.6638 - g_loss: 1.1649\n",
            "Epoch 11/100\n",
            "317/317 [==============================] - 212s 669ms/step - d_loss: 0.6040 - g_loss: 1.1139\n",
            "Epoch 12/100\n",
            "317/317 [==============================] - 215s 676ms/step - d_loss: 0.6497 - g_loss: 1.0148\n",
            "Epoch 13/100\n",
            "317/317 [==============================] - 212s 669ms/step - d_loss: 0.6277 - g_loss: 1.2257\n",
            "Epoch 14/100\n",
            "317/317 [==============================] - 214s 672ms/step - d_loss: 0.6441 - g_loss: 1.1448\n",
            "Epoch 15/100\n",
            "317/317 [==============================] - 212s 668ms/step - d_loss: 0.5836 - g_loss: 1.2673\n",
            "Epoch 16/100\n",
            "317/317 [==============================] - 214s 673ms/step - d_loss: 0.5966 - g_loss: 1.0824\n",
            "Epoch 17/100\n",
            "317/317 [==============================] - 212s 668ms/step - d_loss: 0.5935 - g_loss: 1.1797\n",
            "Epoch 18/100\n",
            "317/317 [==============================] - 214s 674ms/step - d_loss: 0.6235 - g_loss: 1.2445\n",
            "Epoch 19/100\n",
            "317/317 [==============================] - 212s 669ms/step - d_loss: 0.6351 - g_loss: 1.3033\n",
            "Epoch 20/100\n",
            "317/317 [==============================] - 214s 672ms/step - d_loss: 0.6331 - g_loss: 1.0603\n",
            "Epoch 21/100\n",
            "257/317 [=======================>......] - ETA: 40s - d_loss: 0.6054 - g_loss: 1.1815"
          ],
          "name": "stdout"
        }
      ]
    },
    {
      "cell_type": "code",
      "metadata": {
        "id": "5mGcH6O1DfnP"
      },
      "source": [
        "# Display a single image using the epoch number\r\n",
        "def display_image(epoch_no, picture_number = 0):\r\n",
        "  if epoch_no < 10:\r\n",
        "    return PIL.Image.open(f'/content/drive/MyDrive/pokemaenner/results/generated_img_00{epoch_no}_{picture_number}.png')\r\n",
        "  else:\r\n",
        "    return PIL.Image.open(f'/content/drive/MyDrive/pokemaenner/results/generated_img_0{epoch_no}_{picture_number}.png')"
      ],
      "execution_count": null,
      "outputs": []
    },
    {
      "cell_type": "code",
      "metadata": {
        "colab": {
          "base_uri": "https://localhost:8080/",
          "height": 81
        },
        "id": "cA_gsLMZE36c",
        "outputId": "564dddaf-dd41-4695-d71b-041992726643"
      },
      "source": [
        "display_image(49,7)"
      ],
      "execution_count": null,
      "outputs": [
        {
          "output_type": "execute_result",
          "data": {
            "image/png": "[encoded data removed]",
            "text/plain": [
              "<PIL.PngImagePlugin.PngImageFile image mode=RGB size=64x64 at 0x7F1632CDC750>"
            ]
          },
          "metadata": {
            "tags": []
          },
          "execution_count": 33
        }
      ]
    },
    {
      "cell_type": "code",
      "metadata": {
        "id": "Uyh3LvH-D_h-"
      },
      "source": [
        "def make_gif(epoch = 0):\r\n",
        "  anim_file = f'/content/drive/MyDrive/pokemaenner/gifs/GAN_epoch_{epoch}.gif'\r\n",
        "\r\n",
        "  with imageio.get_writer(anim_file, mode='I') as writer:\r\n",
        "    filenames = glob.glob('/content/drive/MyDrive/pokemaenner/results/generated_img_*[0-9]_[0-9].png')\r\n",
        "    filenames = sorted(filenames)\r\n",
        "    for filename in filenames:\r\n",
        "      if epoch < 9:\r\n",
        "        if \"00\"+str(epoch) in filename:\r\n",
        "          image = imageio.imread(filename)\r\n",
        "          writer.append_data(image)\r\n",
        "      elif epoch > 9:\r\n",
        "        if \"0\"+str(epoch) in filename:\r\n",
        "          image = imageio.imread(filename)\r\n",
        "          writer.append_data(image)\r\n",
        "      elif epoch > 99:\r\n",
        "        if str(epoch) in filename:\r\n",
        "          image = imageio.imread(filename)\r\n",
        "          writer.append_data(image)\r\n",
        "\r\n",
        "  embed.embed_file(anim_file)"
      ],
      "execution_count": null,
      "outputs": []
    },
    {
      "cell_type": "code",
      "metadata": {
        "id": "z8pVhsJVEAGR"
      },
      "source": [
        "for i in range(49):\r\n",
        "  make_gif(i)"
      ],
      "execution_count": null,
      "outputs": []
    }
  ]
}