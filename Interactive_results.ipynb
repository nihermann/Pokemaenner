{
  "nbformat": 4,
  "nbformat_minor": 0,
  "metadata": {
    "colab": {
      "name": "Interactive_results.ipynb",
      "provenance": [],
      "mount_file_id": "1WWxE9mhyNwG3maD3rgIFWluZ09TnU-J-",
      "authorship_tag": "ABX9TyNBUvqacU/T+tJ8uZ+egJIP",
      "include_colab_link": true
    },
    "kernelspec": {
      "name": "python3",
      "display_name": "Python 3"
    }
  },
  "cells": [
    {
      "cell_type": "markdown",
      "metadata": {
        "id": "view-in-github",
        "colab_type": "text"
      },
      "source": [
        "<a href=\"https://colab.research.google.com/github/nihermann/Pokemaenner/blob/main/Interactive_results.ipynb\" target=\"_parent\"><img src=\"https://colab.research.google.com/assets/colab-badge.svg\" alt=\"Open In Colab\"/></a>"
      ]
    },
    {
      "cell_type": "code",
      "metadata": {
        "id": "QRVOsiD8bRE8",
        "cellView": "form"
      },
      "source": [
        "#@title # Interactive Generator and Evolution Center.\n",
        "import tensorflow as tf\n",
        "import ipywidgets as widget\n",
        "from IPython.display import (display, clear_output, Image)\n",
        "import matplotlib.pyplot as plt\n",
        "import matplotlib.image as mpimg\n",
        "import imageio\n",
        "import random\n",
        "import os\n",
        "from google.colab import drive\n",
        "drive.mount(\"/content/gdrive\")"
      ],
      "execution_count": null,
      "outputs": []
    },
    {
      "cell_type": "code",
      "metadata": {
        "id": "RQOtLdM4DT1H",
        "cellView": "form"
      },
      "source": [
        "#@title ## Specify the Generator path\n",
        "generator_path = \"/content/gdrive/MyDrive/pokemaenner/AEGAN/g100.generator.h5\" #@param {type:\"string\"}\n",
        "\n",
        "slider = lambda x: widget.FloatSlider(\n",
        "    value=1,\n",
        "    min=-1,\n",
        "    max=1,\n",
        "    step=0.05,\n",
        "    description=x,\n",
        "    continuous_update=False,\n",
        ")\n",
        "\n",
        "def load_generator(path):\n",
        "    gen = tf.keras.models.load_model(path, compile=False)\n",
        "    ls = gen.input_shape[1]\n",
        "    return gen, ls\n",
        "\n",
        "generator, ls = load_generator(generator_path)\n",
        "\n",
        "def get_image(vector):\n",
        "    latent_vector = tf.expand_dims(tf.constant(vector), axis=0)\n",
        "    return generator(latent_vector)\n",
        "\n",
        "def show_image(placeholder):\n",
        "    img = get_image([s.value for s in sliders])\n",
        "    img = tf.cast((img[0] + 1) * 128, tf.uint8)\n",
        "    plt.imshow(img)\n",
        "    plt.axis(\"off\")\n",
        "    plt.show()\n",
        "\n",
        "def interpolate(a, b, steps, apply_noise=True):\n",
        "    step = (b - a) / steps\n",
        "    for _ in range(steps-1):\n",
        "        noise = tf.random.normal(a.shape, 0, 0.001)\n",
        "        a += step if not apply_noise else step + noise\n",
        "        yield a\n",
        "    yield b\n",
        "\n",
        "sliders = None\n",
        "sliders = [slider(str(i+1)) for i in range(ls)]\n",
        "for s in sliders:\n",
        "    s.observe(show_image)\n",
        "\n",
        "button = widget.Button(description=\"Random\")\n",
        "def random_init_slider(placeholder):\n",
        "    for s in sliders:\n",
        "        s.unobserve_all()\n",
        "        s.value = random.gauss(0, 1)\n",
        "        s.observe(show_image)\n",
        "\n",
        "button.on_click(random_init_slider)\n",
        "button.on_click(show_image)"
      ],
      "execution_count": 112,
      "outputs": []
    },
    {
      "cell_type": "code",
      "metadata": {
        "id": "cudWxLqbxA-U",
        "cellView": "form"
      },
      "source": [
        "#@title # Display sliders\n",
        "for s in sliders:\n",
        "    display(s)"
      ],
      "execution_count": null,
      "outputs": []
    },
    {
      "cell_type": "code",
      "metadata": {
        "id": "ESaFmzCaHZuE",
        "cellView": "form"
      },
      "source": [
        "#@title ## Random Assignment\n",
        "display(button)\n",
        "clear_output(wait=True)"
      ],
      "execution_count": null,
      "outputs": []
    },
    {
      "cell_type": "code",
      "metadata": {
        "cellView": "form",
        "id": "eeV-tKsMbqrx"
      },
      "source": [
        "#@title Execute me to see an Evolution\n",
        "smoothness = 35 #@param {type:\"slider\", min:2, max:35, step:1}\n",
        "random_assignment = True #@param {type:\"boolean\"}\n",
        "start_constant = -0.415 #@param {type:\"slider\", min:-1, max:1, step:0.005}\n",
        "end_constant = 1 #@param {type:\"slider\", min:-1, max:1, step:0.005}\n",
        "if random_assignment:\n",
        "    a = tf.random.normal((ls,))\n",
        "    b = tf.random.normal((ls,))\n",
        "else:\n",
        "    a = tf.ones((ls,)) * start_constant\n",
        "    b = tf.ones((ls,)) * end_constant\n",
        "\n",
        "filenames = []\n",
        "\n",
        "for i, vec in enumerate(interpolate(a, b, smoothness)):\n",
        "    img = get_image(vec)\n",
        "    img = tf.cast((img[0] + 1) * 128, tf.uint8)\n",
        "    plt.imshow(img)\n",
        "    plt.axis(\"off\")\n",
        "\n",
        "    filename = f'{i+1}.png'\n",
        "    filenames.append(filename)\n",
        "    \n",
        "    # save frame\n",
        "    plt.savefig(filename)\n",
        "    plt.close()\n",
        "\n",
        "# build gif\n",
        "with imageio.get_writer('mygif.gif', mode='I') as writer:\n",
        "    for filename in filenames:\n",
        "        image = imageio.imread(filename)\n",
        "        writer.append_data(image)\n",
        "        \n",
        "# Remove files\n",
        "for filename in set(filenames):\n",
        "    os.remove(filename)\n",
        "\n",
        "Image(open('mygif.gif','rb').read())"
      ],
      "execution_count": null,
      "outputs": []
    }
  ]
}